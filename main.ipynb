{
 "cells": [
  {
   "cell_type": "code",
   "execution_count": 26,
   "metadata": {},
   "outputs": [
    {
     "name": "stdout",
     "output_type": "stream",
     "text": [
      "^C\n"
     ]
    },
    {
     "name": "stdout",
     "output_type": "stream",
     "text": [
      "Requirement already satisfied: requests in c:\\users\\diego.laptop-13ith36u\\documents\\semillero\\filtrado_colaborativo\\entorno\\lib\\site-packages (2.32.3)\n",
      "Requirement already satisfied: charset-normalizer<4,>=2 in c:\\users\\diego.laptop-13ith36u\\documents\\semillero\\filtrado_colaborativo\\entorno\\lib\\site-packages (from requests) (3.3.2)\n",
      "Requirement already satisfied: idna<4,>=2.5 in c:\\users\\diego.laptop-13ith36u\\documents\\semillero\\filtrado_colaborativo\\entorno\\lib\\site-packages (from requests) (3.7)\n",
      "Requirement already satisfied: urllib3<3,>=1.21.1 in c:\\users\\diego.laptop-13ith36u\\documents\\semillero\\filtrado_colaborativo\\entorno\\lib\\site-packages (from requests) (2.2.1)\n",
      "Requirement already satisfied: certifi>=2017.4.17 in c:\\users\\diego.laptop-13ith36u\\documents\\semillero\\filtrado_colaborativo\\entorno\\lib\\site-packages (from requests) (2024.6.2)\n"
     ]
    }
   ],
   "source": [
    "!pip install requests"
   ]
  },
  {
   "cell_type": "code",
   "execution_count": 36,
   "metadata": {},
   "outputs": [],
   "source": [
    "import requests\n",
    "\n",
    "url_api = 'https://arqui-sistema-recomendacion-85b7038cdf33.herokuapp.com/api/inmueblesPorUsuario/get_filtro/'\n",
    "url_api_login = 'https://arqui-sistema-recomendacion-85b7038cdf33.herokuapp.com/api/login/'\n",
    "\n",
    "login_data = {\n",
    "    'username': 'diego3026',\n",
    "    'password': '3174748557d'\n",
    "}"
   ]
  },
  {
   "cell_type": "code",
   "execution_count": null,
   "metadata": {},
   "outputs": [],
   "source": [
    "def normalizacion(valor,valor_maximo,valor_minimo):\n",
    "    valor_normalizado = (valor - valor_minimo) / (valor_maximo - valor_minimo) \n",
    "    return valor_normalizado"
   ]
  },
  {
   "cell_type": "code",
   "execution_count": null,
   "metadata": {},
   "outputs": [],
   "source": [
    "class InmuebleUsuarioNormalizado():\n",
    "\n",
    "    def __init__(self,inmueble,usuario,favorito,calificacion,clics,pesos):\n",
    "        self.inmueble = inmueble\n",
    "        self.usuario = usuario\n",
    "        self.favorito = favorito\n",
    "        self.calificacion = calificacion\n",
    "        self.clics = clics\n",
    "        self.pesos = pesos\n",
    "\n",
    "    def get_clasificacion(self):\n",
    "        clasificacion = self.pesos[0] * self.favorito + self.pesos[1] * self.calificacion + self.pesos[2] * self.clics\n",
    "        return clasificacion"
   ]
  },
  {
   "cell_type": "code",
   "execution_count": null,
   "metadata": {},
   "outputs": [],
   "source": [
    "def get_datos_api():\n",
    "    response_login = requests.post(url=url_api_login, data=login_data)\n",
    "\n",
    "    if response_login.status_code == 200:\n",
    "        data = response_login.json()\n",
    "    else:\n",
    "        print(f'Error en la petición login: {response_login.status_code}')\n",
    "\n",
    "\n",
    "    token = data['access']\n",
    "    headers = {'Authorization': f'Bearer {token}'}\n",
    "\n",
    "    response = requests.get(url_api, headers=headers)\n",
    "\n",
    "    if response.status_code == 200:\n",
    "        data = response.json()\n",
    "        print(data[0])\n",
    "    else:\n",
    "        print(f'Error en la petición: {response.status_code}')"
   ]
  },
  {
   "cell_type": "code",
   "execution_count": 38,
   "metadata": {},
   "outputs": [
    {
     "name": "stdout",
     "output_type": "stream",
     "text": [
      "{'id': 430, 'inmueble': 57, 'usuario': 'camilo', 'clasificacion': None, 'numeroDeClicks': None, 'favorito': True, 'comentarios': None, 'calificacion': None}\n"
     ]
    }
   ],
   "source": [
    "data = get_datos_api()\n",
    "pesos = [10, 6, 2]\n",
    "\n",
    "for value in data:\n",
    "    id_inmueble = normalizacion(value['inmueble']) if value['inmueble']!=None else None\n",
    "    usuario = normalizacion(value['usuario']) if value['usuario']!=None else None\n",
    "    calificacion = normalizacion(value['calificacion']) if value['calificacion']!=None else None\n",
    "    favorito = normalizacion(value['favorito']) if value['favorito']!=None else None\n",
    "    clics = normalizacion(value['numeroDeClicks']) if value['numeroDeClicks']!=None else None\n",
    "    \n",
    "\n",
    "    inmueble_por_usuario = InmuebleUsuarioNormalizado(inmueble=id_inmueble,\n",
    "                                                      usuario=usuario,\n",
    "                                                      calificacion=calificacion,\n",
    "                                                      favorito=favorito,\n",
    "                                                      clics=clics,\n",
    "                                                      pesos=pesos)\n"
   ]
  }
 ],
 "metadata": {
  "kernelspec": {
   "display_name": "entorno",
   "language": "python",
   "name": "python3"
  },
  "language_info": {
   "codemirror_mode": {
    "name": "ipython",
    "version": 3
   },
   "file_extension": ".py",
   "mimetype": "text/x-python",
   "name": "python",
   "nbconvert_exporter": "python",
   "pygments_lexer": "ipython3",
   "version": "3.11.9"
  }
 },
 "nbformat": 4,
 "nbformat_minor": 2
}
