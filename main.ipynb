{
 "cells": [
  {
   "cell_type": "code",
   "execution_count": 39,
   "metadata": {},
   "outputs": [
    {
     "name": "stdout",
     "output_type": "stream",
     "text": [
      "Requirement already satisfied: requests in c:\\users\\diego.laptop-13ith36u\\appdata\\local\\programs\\python\\python311\\lib\\site-packages (2.32.3)\n",
      "Requirement already satisfied: charset-normalizer<4,>=2 in c:\\users\\diego.laptop-13ith36u\\appdata\\local\\programs\\python\\python311\\lib\\site-packages (from requests) (3.3.2)\n",
      "Requirement already satisfied: idna<4,>=2.5 in c:\\users\\diego.laptop-13ith36u\\appdata\\local\\programs\\python\\python311\\lib\\site-packages (from requests) (3.7)\n",
      "Requirement already satisfied: urllib3<3,>=1.21.1 in c:\\users\\diego.laptop-13ith36u\\appdata\\local\\programs\\python\\python311\\lib\\site-packages (from requests) (2.2.2)\n",
      "Requirement already satisfied: certifi>=2017.4.17 in c:\\users\\diego.laptop-13ith36u\\appdata\\local\\programs\\python\\python311\\lib\\site-packages (from requests) (2024.6.2)\n",
      "Requirement already satisfied: psycopg2 in c:\\users\\diego.laptop-13ith36u\\appdata\\local\\programs\\python\\python311\\lib\\site-packages (2.9.9)\n",
      "Requirement already satisfied: pandas in c:\\users\\diego.laptop-13ith36u\\appdata\\local\\programs\\python\\python311\\lib\\site-packages (2.2.2)\n",
      "Requirement already satisfied: numpy>=1.23.2 in c:\\users\\diego.laptop-13ith36u\\appdata\\local\\programs\\python\\python311\\lib\\site-packages (from pandas) (2.0.0)\n",
      "Requirement already satisfied: python-dateutil>=2.8.2 in c:\\users\\diego.laptop-13ith36u\\appdata\\roaming\\python\\python311\\site-packages (from pandas) (2.9.0.post0)\n",
      "Requirement already satisfied: pytz>=2020.1 in c:\\users\\diego.laptop-13ith36u\\appdata\\local\\programs\\python\\python311\\lib\\site-packages (from pandas) (2024.1)\n",
      "Requirement already satisfied: tzdata>=2022.7 in c:\\users\\diego.laptop-13ith36u\\appdata\\local\\programs\\python\\python311\\lib\\site-packages (from pandas) (2024.1)\n",
      "Requirement already satisfied: six>=1.5 in c:\\users\\diego.laptop-13ith36u\\appdata\\roaming\\python\\python311\\site-packages (from python-dateutil>=2.8.2->pandas) (1.16.0)\n"
     ]
    }
   ],
   "source": [
    "!pip install requests\n",
    "!pip install psycopg2\n",
    "!pip install pandas"
   ]
  },
  {
   "cell_type": "code",
   "execution_count": 40,
   "metadata": {},
   "outputs": [
    {
     "name": "stdout",
     "output_type": "stream",
     "text": [
      "Requirement already satisfied: scikit-learn in c:\\users\\diego.laptop-13ith36u\\appdata\\local\\programs\\python\\python311\\lib\\site-packages (1.5.0)\n",
      "Requirement already satisfied: numpy>=1.19.5 in c:\\users\\diego.laptop-13ith36u\\appdata\\local\\programs\\python\\python311\\lib\\site-packages (from scikit-learn) (2.0.0)\n",
      "Requirement already satisfied: scipy>=1.6.0 in c:\\users\\diego.laptop-13ith36u\\appdata\\local\\programs\\python\\python311\\lib\\site-packages (from scikit-learn) (1.13.1)\n",
      "Requirement already satisfied: joblib>=1.2.0 in c:\\users\\diego.laptop-13ith36u\\appdata\\local\\programs\\python\\python311\\lib\\site-packages (from scikit-learn) (1.4.2)\n",
      "Requirement already satisfied: threadpoolctl>=3.1.0 in c:\\users\\diego.laptop-13ith36u\\appdata\\local\\programs\\python\\python311\\lib\\site-packages (from scikit-learn) (3.5.0)\n"
     ]
    }
   ],
   "source": [
    "!pip install scikit-learn"
   ]
  },
  {
   "cell_type": "code",
   "execution_count": 41,
   "metadata": {},
   "outputs": [],
   "source": [
    "import requests\n",
    "import psycopg2\n",
    "from psycopg2 import sql\n",
    "import json\n",
    "import math\n",
    "import itertools\n",
    "\n",
    "url_api = 'https://arqui-sistema-recomendacion-85b7038cdf33.herokuapp.com/api/inmueblesPorUsuario/get_filtro/'\n",
    "url_api_inmuebles = 'https://arqui-sistema-recomendacion-85b7038cdf33.herokuapp.com/api/inmuebles/'\n",
    "url_api_login = 'https://arqui-sistema-recomendacion-85b7038cdf33.herokuapp.com/api/login/'\n",
    "url_api_preferenciasPorUsuario = 'https://arqui-sistema-recomendacion-85b7038cdf33.herokuapp.com/api/interesesPorUsuario/'\n",
    "\n",
    "login_data = {\n",
    "    'username': 'diego3026',\n",
    "    'password': '3174748557d'\n",
    "}"
   ]
  },
  {
   "cell_type": "code",
   "execution_count": 42,
   "metadata": {},
   "outputs": [],
   "source": [
    "def normalizacion(valor,valor_maximo,valor_minimo):\n",
    "    valor_normalizado = (valor - valor_minimo) / (valor_maximo - valor_minimo) \n",
    "    return valor_normalizado"
   ]
  },
  {
   "cell_type": "code",
   "execution_count": 43,
   "metadata": {},
   "outputs": [],
   "source": [
    "class InmuebleUsuarioNormalizado():\n",
    "\n",
    "    def __init__(self,inmueble,usuario,favorito,calificacion,clics,puntajePreferencia,pesos):\n",
    "        self.inmueble = inmueble\n",
    "        self.usuario = usuario\n",
    "        self.favorito = favorito\n",
    "        self.calificacion = calificacion\n",
    "        self.clics = clics\n",
    "        self.pesos = pesos\n",
    "        self.puntajePreferencia = puntajePreferencia\n",
    "\n",
    "    def get_clasificacion(self):\n",
    "        clasificacion = self.pesos[0] * self.favorito + self.pesos[1] * self.calificacion + self.pesos[2] * self.clics + self.pesos[3] * self.puntajePreferencia\n",
    "        return clasificacion\n"
   ]
  },
  {
   "cell_type": "code",
   "execution_count": 44,
   "metadata": {},
   "outputs": [],
   "source": [
    "def get_datos_api():\n",
    "    response_login = requests.post(url=url_api_login, data=login_data)\n",
    "\n",
    "    if response_login.status_code == 200:\n",
    "        data = response_login.json()\n",
    "    else:\n",
    "        print(f'Error en la petición login: {response_login.status_code}')\n",
    "\n",
    "\n",
    "    token = data['access']\n",
    "    headers = {'Authorization': f'Bearer {token}'}\n",
    "\n",
    "    response = requests.get(url_api, headers=headers)\n",
    "\n",
    "    if response.status_code == 200:\n",
    "        data = response.json()\n",
    "        return data\n",
    "    else:\n",
    "        return 'Error en la petición: {response.status_code}'"
   ]
  },
  {
   "cell_type": "code",
   "execution_count": 45,
   "metadata": {},
   "outputs": [],
   "source": [
    "def get_datos_preferenciasPorUsuario():\n",
    "    response_login = requests.post(url=url_api_login, data=login_data)\n",
    "    \n",
    "    if response_login.status_code == 200:\n",
    "        data = response_login.json()\n",
    "    else:\n",
    "        print(f'Error en la petición login: {response_login.status_code}')\n",
    "        return None\n",
    "    token = data['access']\n",
    "    headers = {'Authorization': f'Bearer {token}'}\n",
    "\n",
    "    response_preferenciasPorUsuario = requests.get(url_api_preferenciasPorUsuario, headers=headers)\n",
    "    \n",
    "    if response_preferenciasPorUsuario.status_code == 200:\n",
    "        data_preferenciasPorUsuario = response_preferenciasPorUsuario.json()\n",
    "        print(data_preferenciasPorUsuario)\n",
    "        return data_preferenciasPorUsuario\n",
    "    else :\n",
    "        print(f'Error en la peticion de preferenciaPorUsuario: {response_preferenciasPorUsuario}')\n",
    "        return None\n",
    "        "
   ]
  },
  {
   "cell_type": "code",
   "execution_count": 46,
   "metadata": {},
   "outputs": [
    {
     "name": "stdout",
     "output_type": "stream",
     "text": [
      "[{'id': 1, 'interes': 'piscina', 'usuario': 'diego3026'}, {'id': 2, 'interes': 'wifi', 'usuario': 'diego3026'}, {'id': 3, 'interes': 'cocina', 'usuario': 'diego3026'}, {'id': 4, 'interes': 'parque', 'usuario': 'diego3026'}, {'id': 5, 'interes': 'gimnasio', 'usuario': 'diego1234'}, {'id': 6, 'interes': 'estacionamiento', 'usuario': 'diego1234'}, {'id': 7, 'interes': 'vista-al-mar', 'usuario': 'diego1234'}, {'id': 8, 'interes': 'terraza', 'usuario': 'diego1234'}, {'id': 9, 'interes': 'cerca-de-transporte-publico', 'usuario': 'diego1234'}]\n"
     ]
    }
   ],
   "source": [
    "preferencias = get_datos_preferenciasPorUsuario()"
   ]
  },
  {
   "cell_type": "code",
   "execution_count": 47,
   "metadata": {},
   "outputs": [
    {
     "name": "stdout",
     "output_type": "stream",
     "text": [
      "{'diego3026': ['piscina', 'wifi', 'cocina', 'parque'], 'diego1234': ['gimnasio', 'estacionamiento', 'vista-al-mar', 'terraza', 'cerca-de-transporte-publico']}\n"
     ]
    }
   ],
   "source": [
    "intereses_por_usuario = {}\n",
    "for preferencia in preferencias:\n",
    "    usuario = preferencia['usuario']\n",
    "    interes = preferencia['interes']\n",
    "    if usuario not in intereses_por_usuario:\n",
    "        intereses_por_usuario[usuario] = []\n",
    "    intereses_por_usuario[usuario].append(interes) \n",
    "print(intereses_por_usuario)"
   ]
  },
  {
   "cell_type": "code",
   "execution_count": 48,
   "metadata": {},
   "outputs": [],
   "source": [
    "def consultar_base_de_datos(host, database, user, password, consulta, parametros=None):\n",
    "    \"\"\"\n",
    "    Conecta a la base de datos PostgreSQL y ejecuta una consulta.\n",
    "\n",
    "    :param host: Dirección del servidor PostgreSQL.\n",
    "    :param database: Nombre de la base de datos.\n",
    "    :param user: Nombre de usuario para la conexión.\n",
    "    :param password: Contraseña del usuario.\n",
    "    :param consulta: Consulta SQL a ejecutar.\n",
    "    :param parametros: Parámetros para la consulta SQL (opcional).\n",
    "    :return: Resultados de la consulta.\n",
    "    \"\"\"\n",
    "    try:\n",
    "        # Establecer la conexión a la base de datos\n",
    "        conexion = psycopg2.connect(\n",
    "            host=host,\n",
    "            database=database,\n",
    "            user=user,\n",
    "            password=password\n",
    "        )\n",
    "        cursor = conexion.cursor()\n",
    "\n",
    "        # Ejecutar la consulta\n",
    "        cursor.execute(consulta)\n",
    "\n",
    "        nombres_columnas = [desc[0] for desc in cursor.description]\n",
    "\n",
    "        # Obtener los resultados de la consulta\n",
    "        resultados = cursor.fetchall()\n",
    "\n",
    "        # Cerrar el cursor y la conexión\n",
    "        cursor.close()\n",
    "        conexion.close()\n",
    "\n",
    "        return nombres_columnas, resultados\n",
    "    \n",
    "    except (Exception, psycopg2.DatabaseError) as error:\n",
    "        print(f'Error al acceder a la base de datos: {error}')\n",
    "        return None"
   ]
  },
  {
   "cell_type": "code",
   "execution_count": 49,
   "metadata": {},
   "outputs": [],
   "source": [
    "def get_datos_api_inmuebles():\n",
    "    response_login = requests.post(url=url_api_login, data=login_data)\n",
    "\n",
    "    if response_login.status_code == 200:\n",
    "        data = response_login.json()\n",
    "    else:\n",
    "        return f'Error en la petición login: {response_login.status_code}'\n",
    "\n",
    "\n",
    "    token = data['access']\n",
    "    headers = {'Authorization': f'Bearer {token}'}\n",
    "\n",
    "    response = requests.get(url_api_inmuebles, headers=headers)\n",
    "\n",
    "    if response.status_code == 200:\n",
    "        data = response.json()\n",
    "        return data\n",
    "    else:\n",
    "        return 'Error en la petición: {response.status_code}'"
   ]
  },
  {
   "cell_type": "code",
   "execution_count": 50,
   "metadata": {},
   "outputs": [],
   "source": [
    "host = 'dbarquitecura.postgres.database.azure.com'\n",
    "database = 'postgres'\n",
    "user = 'gidsyc'\n",
    "password = 'Semillero2024'\n",
    "consulta = 'SELECT id FROM inmobiliaria_inmueble'\n",
    "consulta_user = 'SELECT id, username FROM inmobiliaria_usuario'\n",
    "\n",
    "columnas, resultados = consultar_base_de_datos(host, database, user, password, consulta)\n",
    "\n",
    "columnas_user, resultados_user = consultar_base_de_datos(host, database, user, password, consulta_user)\n",
    "\n",
    "datosLimpios = {}\n",
    "\n",
    "# if resultados:\n",
    "#     print(columnas)\n",
    "#     for fila in resultados:\n",
    "#         print(fila[0])\n",
    "# else:\n",
    "#     print('No se obtuvieron resultados.')\n",
    "\n",
    "\n",
    "# print(\"Usuarios\")\n",
    "# if resultados_user:\n",
    "#     print(columnas_user)\n",
    "#     for fila in resultados_user:\n",
    "#         print(fila[1])\n",
    "# else:\n",
    "#     print('No se obtuvieron resultados.')\n",
    "\n",
    "\n",
    "for item in resultados_user:\n",
    "    usuario = item[1]\n",
    "    if usuario not in datosLimpios:\n",
    "        datosLimpios[usuario] = {}\n",
    "        for inmueble in resultados:\n",
    "            id_inmueble = inmueble[0]\n",
    "            datosLimpios[usuario][id_inmueble] = 0\n",
    "    else:\n",
    "        print(f\"El inmueble '{id_inmueble}' ya existe\")\n"
   ]
  },
  {
   "cell_type": "code",
   "execution_count": 51,
   "metadata": {},
   "outputs": [],
   "source": [
    "inmuebles = get_datos_api_inmuebles()"
   ]
  },
  {
   "cell_type": "code",
   "execution_count": 52,
   "metadata": {},
   "outputs": [],
   "source": [
    "inmueble_caracteristicas = []\n",
    "for item in inmuebles:\n",
    "    caracteristicas = item['caracteristicas']\n",
    "    if (len(caracteristicas) > 0):\n",
    "        for caracteristica in caracteristicas:\n",
    "            nombre = caracteristica['nombre'].lower()\n",
    "            dato = {'id_inmueble': item['id'], 'nombre_caracteristica': nombre}\n",
    "            inmueble_caracteristicas.append(dato)\n"
   ]
  },
  {
   "cell_type": "code",
   "execution_count": 53,
   "metadata": {},
   "outputs": [
    {
     "name": "stdout",
     "output_type": "stream",
     "text": [
      "{1173: ['piso-13'], 1174: ['citofonos', 'estudio-o-biblioteca', 'ascensor', 'piscina', 'vista-panoramica', 'conjunto-cerrado', 'hall-de-alcobas', 'zona-de-lavanderia', 'salon-comunal', 'zonas-verdes', 'bano-auxiliar', 'cocina-integral', 'banos-de-servicio', 'terraza-balcon-balcon', 'vigilancia', 'con-terraza', 'porteria', 'aire-acondicionado', 'tipo-acabado-de-piso-ceramica', 'piso-11'], 1175: ['tipo-de-casa-tradicional'], 1176: ['zona-de-lavanderia', 'piso-7'], 1177: ['ascensor', 'vigilancia-24hrs', 'instalacion-de-gas-natural', 'calentador-caldera', 'tipo-de-comedor-sala-comedor', 'vigilancia', 'tipo-acabado-de-piso-ceramica', 'tipo-de-piso-en-alcobas-ceramica', 'tipo-de-piso-en-comedor-ceramica', 'tipo-de-piso-en-estudio-ceramica', 'tipo-de-piso-en-sala-ceramica', 'tipo-de-estufa-gas'], 1178: ['hall-de-alcobas', 'zona-para-ninos', 'bano-auxiliar', 'banos-de-servicio', 'piso-2', 'tipo-acabado-de-piso-ceramica', 'area-lote-357-m2'], 1179: ['citofonos', 'ascensor', 'piscina', 'conjunto-cerrado', 'vigilancia-24hrs', 'sauna-turco', 'gimnasio', 'salon-comunal', 'zona-para-ninos', 'zonas-verdes', 'parqueadero-visitantes', 'zona-de-bbq', 'parqueadero-comunal'], 1180: ['area-lote-250-m2'], 1181: ['citofonos', 'ascensor', 'circuito-cerrado-de-tv', 'piscina', 'vista-panoramica', 'conjunto-cerrado', 'hall-de-alcobas', 'jacuzzi', 'sauna-turco', 'salon-comunal', 'zonas-verdes', 'bano-auxiliar', 'cocina-integral', 'banos-de-servicio', 'terraza-balcon-balcon', 'vigilancia', 'parqueadero-visitantes', 'zona-de-bbq', 'aire-acondicionado', 'tipo-acabado-de-piso-ceramica', 'deposito-1', 'calefaccion', 'piso-3', 'cancha-s-de-futbol'], 1182: ['citofonos', 'ascensor', 'circuito-cerrado-de-tv', 'piscina', 'vista-panoramica', 'conjunto-cerrado', 'jacuzzi', 'zona-de-lavanderia', 'gimnasio', 'salon-comunal', 'zona-para-ninos', 'zonas-verdes', 'bano-auxiliar', 'cocina-integral', 'banos-de-servicio', 'terraza-balcon-balcon', 'vigilancia', 'parqueadero-visitantes', 'con-terraza', 'porteria', 'zona-de-bbq', 'aire-acondicionado', 'tipo-acabado-de-piso-ceramica', 'equipado-amoblado', 'cocina-tipo-americano'], 1183: ['piso-11'], 1184: ['conjunto-cerrado', 'zona-de-lavanderia', 'piso-14', 'deposito-1'], 1185: ['citofonos', 'comedor-auxiliar', 'ascensor', 'piscina', 'terraza-balcon-terraza', 'hall-de-alcobas', 'zona-de-lavanderia', 'tipo-de-comedor-sala-comedor', 'cancha-s-de-squash', 'gimnasio', 'salon-comunal', 'cocina-integral', 'piso-en-porcelanato', 'vigilancia', 'parqueadero-visitantes', 'zona-de-bbq', 'aire-acondicionado', 'alarma', 'tipo-de-estufa-gas', 'calentador-gas', 'piso-4', 'vista-exterior', 'tipo-de-cocina-lineal'], 1186: ['piso-15'], 1187: ['citofonos', 'ascensor', 'circuito-cerrado-de-tv', 'vista-panoramica', 'hall-de-alcobas', 'zona-de-lavanderia', 'bano-auxiliar', 'cocina-integral', 'banos-de-servicio', 'terraza-balcon-balcon', 'vigilancia', 'porteria', 'aire-acondicionado', 'piso-16'], 1188: ['citofonos', 'ascensor', 'circuito-cerrado-de-tv', 'piscina', 'vista-panoramica', 'zona-de-lavanderia', 'salon-comunal', 'cocina-integral', 'porteria', 'piso-9'], 1189: ['citofonos', 'cuarto-de-servicio', 'ascensor', 'circuito-cerrado-de-tv', 'piscina', 'vista-panoramica', 'hall-de-alcobas', 'zona-de-lavanderia', 'gimnasio', 'salon-comunal', 'terraza-balcon-balcon', 'parqueadero-visitantes', 'porteria', 'aire-acondicionado', 'deposito-1', 'piso-4'], 1190: ['vista-exterior', 'piso-5'], 1191: ['cuarto-de-servicio', 'estudio-o-biblioteca', 'parqueadero-cubierto', 'conjunto-cerrado', 'tipo-de-comedor-sala-comedor', 'tipo-de-parqueadero-propio', 'terraza-balcon-balcon', 'tipo-de-piso-en-comedor-baldosa', 'tipo-de-piso-en-sala-baldosa', 'tipo-acabado-de-piso-ceramica', 'tipo-de-piso-en-alcobas-ceramica', 'tipo-de-piso-en-estudio-ceramica', 'tipo-de-estufa-gas', 'calentador-gas', 'numero-de-ascensores-0', 'closets-3', 'piso-5', 'tipo-de-cocina-lineal', 'area-terraza-balcon-3-m2', 'vigilancia-0', 'instalacion-de-gas-propano'], 1192: ['piso-8'], 1193: ['cuarto-de-servicio', 'parqueadero-cubierto', 'acceso-para-discapacitados', 'piscina', 'conjunto-cerrado', 'zona-de-lavanderia', 'instalacion-de-gas-natural', 'closets-4', 'tipo-de-comedor-sala-comedor', 'zonas-verdes', 'tipo-de-parqueadero-propio', 'zona-de-bbq', 'apto-para-ninos', 'deposito-1', 'tipo-de-estufa-gas', 'tipo-de-casa-tradicional'], 1194: ['ascensor', 'piscina', 'conjunto-cerrado', 'jacuzzi', 'sauna-turco', 'salon-comunal', 'zonas-verdes', 'bano-auxiliar', 'caracteristicas-del-parqueadero-cubierto', 'cocina-integral', 'tipo-de-parqueadero-propio', 'vigilancia', 'parqueadero-visitantes', 'con-terraza', 'porteria', 'piso-12'], 1195: ['cuarto-de-servicio', 'hall-de-alcobas', 'zona-de-lavanderia', 'zonas-verdes', 'bano-auxiliar', 'cocina-integral', 'banos-de-servicio', 'piso-1', 'area-lote-304-m2'], 1196: ['cuarto-de-servicio', 'conjunto-cerrado', 'tipo-de-comedor-sala-comedor', 'tipo-de-cocina-lineal', 'instalacion-de-gas-ninguno', 'tipo-acabado-de-piso-otro', 'tipo-de-piso-en-alcobas-otro', 'vigilancia-0', 'tipo-de-piso-en-comedor-otro', 'tipo-de-piso-en-estudio-otro', 'tipo-de-piso-en-sala-otro'], 1197: ['citofonos', 'parqueadero-cubierto', 'ascensor', 'acceso-para-discapacitados', 'circuito-cerrado-de-tv', 'piscina', 'vista-panoramica', 'conjunto-cerrado', 'vigilancia-24hrs', 'jacuzzi', 'puerta-seguridad', 'sauna-turco', 'instalacion-de-gas-natural', 'tipo-de-comedor-sala-comedor', 'gimnasio', 'salon-comunal', 'zona-para-ninos', 'zonas-verdes', 'calentador-no-tiene', 'terraza-balcon-balcon', 'aire-acondicionado', 'equipado-amoblado', 'closets-1', 'deposito-0', 'piso-9', 'numero-de-ascensores-2', 'tipo-de-cocina-lineal', 'tipo-de-cortinas-con-velos', 'tipo-de-estufa-mixta', 'area-terraza-balcon-1-6-m2'], 1198: ['hall-de-alcobas'], 1199: ['terraza-balcon-terraza', 'vigilancia-24hrs', 'hall-de-alcobas', 'zona-de-lavanderia', 'instalacion-de-gas-natural', 'closets-4', 'tipo-de-comedor-sala-comedor', 'calentador-no-tiene', 'tipo-acabado-de-piso-baldosa', 'tipo-de-piso-en-alcobas-baldosa', 'equipado-amoblado', 'numero-de-ascensores-0', 'area-terraza-balcon-15-m2', 'tipo-de-cortinas-con-velos', 'numero-de-lineas-telefonicas-0', 'tipo-de-estufa-electrica', 'tipo-de-casa-tradicional', 'area-lote-97-m2', 'tipo-de-cocina-otra', 'ancho-9-m', 'fondo-12-m'], 1200: ['piso-17'], 1201: ['terraza-balcon-terraza', 'tipo-de-comedor-sala-comedor', 'tipo-de-cocina-lineal', 'instalacion-de-gas-ninguno', 'tipo-acabado-de-piso-otro', 'tipo-de-piso-en-alcobas-otro', 'vigilancia-0', 'tipo-de-piso-en-comedor-otro', 'tipo-de-piso-en-estudio-otro', 'tipo-de-piso-en-sala-otro', 'area-terraza-balcon-1-0-m2'], 1202: ['citofonos', 'ascensor', 'piscina', 'terraza-balcon-terraza', 'jacuzzi', 'zona-de-lavanderia', 'tipo-de-comedor-sala-comedor', 'cancha-s-de-squash', 'gimnasio', 'cocina-integral', 'piso-en-porcelanato', 'piso-14', 'vigilancia', 'parqueadero-visitantes', 'zona-de-bbq', 'calentador-gas', 'vista-exterior', 'tipo-de-cocina-lineal'], 1203: ['cuarto-de-servicio', 'piscina', 'terraza-balcon-terraza', 'jacuzzi', 'tipo-de-comedor-sala-comedor', 'gimnasio', 'parqueadero-visitantes', 'aire-acondicionado', 'calefaccion', 'tipo-de-cocina-lineal', 'instalacion-de-gas-ninguno', 'tipo-acabado-de-piso-otro', 'tipo-de-piso-en-alcobas-otro', 'vigilancia-0', 'tipo-de-piso-en-comedor-otro', 'tipo-de-piso-en-estudio-otro', 'tipo-de-piso-en-sala-otro', 'area-terraza-balcon-1-0-m2'], 1204: ['citofonos', 'ascensor', 'piscina', 'vista-panoramica', 'zona-de-lavanderia', 'gimnasio', 'zona-para-ninos', 'zonas-verdes', 'bano-auxiliar', 'cocina-integral', 'banos-de-servicio', 'terraza-balcon-balcon', 'vigilancia', 'parqueadero-visitantes', 'con-terraza', 'zona-de-bbq'], 1205: ['tipo-de-comedor-comedor-independiente', 'vista-exterior', 'tipo-de-casa-tradicional', 'tipo-de-cocina-otra', 'area-lote-413-m2'], 1206: ['citofonos', 'vista-panoramica', 'conjunto-cerrado', 'zona-de-lavanderia', 'jardin', 'piso-2', 'terraza-balcon-balcon', 'vigilancia', 'porteria', 'aire-acondicionado', 'equipado-amoblado', 'vivienda-bifamiliar', 'area-lote-153-76-m2'], 1207: ['vigilancia-24hrs', 'calentador-no-tiene', 'terraza-balcon-balcon', 'vigilancia', 'tipo-acabado-de-piso-ceramica', 'tipo-de-piso-en-alcobas-ceramica', 'tipo-de-piso-en-comedor-ceramica', 'tipo-de-piso-en-estudio-ceramica', 'tipo-de-piso-en-sala-ceramica'], 1208: ['vista-panoramica', 'gimnasio', 'salon-comunal', 'zonas-verdes', 'cocina-integral', 'terraza-balcon-balcon', 'vigilancia', 'vivienda-bifamiliar', 'piso-5', 'cancha-s-de-futbol'], 1209: ['piso-10'], 1210: ['ascensor', 'circuito-cerrado-de-tv', 'piscina', 'conjunto-cerrado', 'hall-de-alcobas', 'zona-de-lavanderia', 'cancha-s-de-squash', 'gimnasio', 'salon-comunal', 'zona-para-ninos', 'zonas-verdes', 'bano-auxiliar', 'cocina-integral', 'banos-de-servicio', 'terraza-balcon-balcon', 'vigilancia', 'porteria', 'piso-11', 'cancha-s-de-futbol'], 1211: ['estudio-o-biblioteca', 'ascensor', 'tipo-de-comedor-sala-comedor', 'terraza-balcon-balcon', 'numero-de-ascensores-1', 'tipo-de-cocina-lineal', 'instalacion-de-gas-ninguno', 'tipo-acabado-de-piso-otro', 'tipo-de-piso-en-alcobas-otro', 'vigilancia-0', 'tipo-de-piso-en-comedor-otro', 'tipo-de-piso-en-estudio-otro', 'tipo-de-piso-en-sala-otro'], 1212: ['ascensor', 'circuito-cerrado-de-tv', 'piscina', 'vista-panoramica', 'conjunto-cerrado', 'hall-de-alcobas', 'jacuzzi', 'zona-de-lavanderia', 'salon-comunal', 'bano-auxiliar', 'cocina-integral', 'banos-de-servicio', 'terraza-balcon-balcon', 'piso-14', 'vigilancia', 'parqueadero-visitantes', 'porteria', 'aire-acondicionado', 'equipado-amoblado'], 1213: ['piso-6'], 1214: ['piso-4'], 1215: ['citofonos', 'estudio-o-biblioteca', 'ascensor', 'circuito-cerrado-de-tv', 'piscina', 'vista-panoramica', 'conjunto-cerrado', 'hall-de-alcobas', 'sauna-turco', 'zona-de-lavanderia', 'gimnasio', 'salon-comunal', 'zona-para-ninos', 'zonas-verdes', 'bano-auxiliar', 'cocina-integral', 'banos-de-servicio', 'piso-2', 'terraza-balcon-balcon', 'vigilancia', 'parqueadero-visitantes', 'porteria', 'zona-de-bbq', 'tipo-acabado-de-piso-ceramica', 'calefaccion', 'cocina-tipo-americano'], 1216: ['piso-1'], 1217: ['citofonos', 'ascensor', 'piscina', 'vista-panoramica', 'conjunto-cerrado', 'jacuzzi', 'sauna-turco', 'zona-de-lavanderia', 'gimnasio', 'salon-comunal', 'bano-auxiliar', 'cocina-integral', 'banos-de-servicio', 'terraza-balcon-balcon', 'vigilancia', 'parqueadero-visitantes', 'porteria', 'zona-de-bbq', 'aire-acondicionado', 'equipado-amoblado', 'deposito-1', 'calefaccion', 'vivienda-bifamiliar', 'cocina-tipo-americano', 'piso-4'], 1218: ['citofonos', 'estudio-o-biblioteca', 'ascensor', 'piscina', 'vista-panoramica', 'conjunto-cerrado', 'hall-de-alcobas', 'jacuzzi', 'sauna-turco', 'zona-de-lavanderia', 'gimnasio', 'salon-comunal', 'bano-auxiliar', 'cocina-integral', 'banos-de-servicio', 'terraza-balcon-balcon', 'piso-14', 'vigilancia', 'parqueadero-visitantes', 'con-terraza', 'porteria', 'zona-de-bbq', 'aire-acondicionado', 'tipo-acabado-de-piso-ceramica', 'deposito-1', 'vivienda-bifamiliar'], 1219: ['ascensor', 'salon-comunal', 'zona-para-ninos', 'calentador-no-tiene', 'tipo-de-comedor-comedor-independiente', 'terraza-balcon-balcon'], 1220: ['cuarto-de-servicio', 'estudio-o-biblioteca', 'parqueadero-cubierto', 'hall-de-alcobas', 'zona-de-lavanderia', 'instalacion-de-gas-natural', 'closets-4', 'jardin', 'tipo-de-parqueadero-propio', 'tipo-de-comedor-comedor-independiente', 'terraza-balcon-balcon', 'apto-para-ninos', 'se-permite-fumar', 'area-terraza-balcon-4-m2', 'tipo-de-estufa-gas', 'calentador-gas', 'deposito-0', 'tipo-de-cocina-en-l', 'area-lote-250-m2', 'tipo-de-casa-tradicional'], 1221: ['citofonos', 'ascensor', 'conjunto-cerrado', 'bano-auxiliar', 'caracteristicas-del-parqueadero-cubierto', 'cocina-integral', 'piso-en-porcelanato', 'vigilancia', 'porteria', 'piso-4', 'tipo-de-parqueadero-independiente'], 1222: ['citofonos', 'parqueadero-cubierto', 'ascensor', 'acceso-para-discapacitados', 'circuito-cerrado-de-tv', 'piscina', 'vista-panoramica', 'conjunto-cerrado', 'vigilancia-24hrs', 'hall-de-alcobas', 'jacuzzi', 'puerta-seguridad', 'sauna-turco', 'zona-de-lavanderia', 'instalacion-de-gas-natural', 'gimnasio', 'salon-comunal', 'zona-para-ninos', 'zonas-verdes', 'calentador-no-tiene', 'terraza-balcon-balcon', 'zona-de-bbq', 'apto-para-ninos', 'aire-acondicionado', 'se-permite-fumar', 'piso-6', 'tipo-de-cortinas-persianas', 'numero-de-ascensores-2', 'closets-2', 'tipo-de-cocina-isla', 'area-terraza-balcon-1-50-m2'], 1223: ['vista-panoramica', 'zona-de-lavanderia', 'bano-auxiliar', 'banos-de-servicio', 'piso-2', 'parqueadero-visitantes', 'tipo-acabado-de-piso-ceramica', 'area-lote-165-m2'], 1224: ['piso-5'], 1225: ['comedor-auxiliar', 'estudio-o-biblioteca', 'zona-de-lavanderia', 'bano-auxiliar', 'cocina-integral', 'banos-de-servicio', 'terraza-balcon-balcon', 'tipo-acabado-de-piso-ceramica', 'alarma', 'deposito-1', 'area-lote-269-m2'], 1226: ['citofonos', 'ascensor', 'circuito-cerrado-de-tv', 'piscina', 'vista-panoramica', 'zona-de-lavanderia', 'gimnasio', 'salon-comunal', 'zona-para-ninos', 'bano-auxiliar', 'banos-de-servicio', 'terraza-balcon-balcon', 'parqueadero-visitantes', 'porteria', 'zona-de-bbq', 'aire-acondicionado', 'equipado-amoblado', 'piso-11', 'cocina-tipo-americano'], 1227: ['estudio-o-biblioteca', 'terraza-balcon-terraza', 'tipo-de-comedor-sala-comedor', 'con-terraza', 'closets-1', 'tipo-de-cocina-lineal', 'instalacion-de-gas-ninguno', 'tipo-acabado-de-piso-otro', 'tipo-de-piso-en-alcobas-otro', 'vigilancia-0', 'tipo-de-piso-en-comedor-otro', 'tipo-de-piso-en-estudio-otro', 'tipo-de-piso-en-sala-otro', 'area-terraza-balcon-1-0-m2'], 1228: ['citofonos', 'comedor-auxiliar', 'parqueadero-cubierto', 'ascensor', 'acceso-para-discapacitados', 'circuito-cerrado-de-tv', 'piscina', 'vista-panoramica', 'conjunto-cerrado', 'numero-de-ascensores-4', 'vigilancia-24hrs', 'hall-de-alcobas', 'jacuzzi', 'puerta-seguridad', 'sauna-turco', 'zona-de-lavanderia', 'instalacion-de-gas-natural', 'tipo-de-cocina-en-u', 'gimnasio', 'salon-comunal', 'zona-para-ninos', 'zonas-verdes', 'terraza-balcon-balcon', 'zona-de-bbq', 'apto-para-ninos', 'aire-acondicionado', 'se-permite-fumar', 'area-terraza-balcon-4-m2', 'calentador-gas', 'closets-2', 'piso-30'], 1229: ['circuito-cerrado-de-tv', 'hall-de-alcobas', 'salon-comunal', 'bano-auxiliar', 'cocina-integral', 'banos-de-servicio', 'terraza-balcon-balcon', 'porteria', 'area-lote-106-m2'], 1230: ['hall-de-alcobas', 'zona-de-lavanderia', 'bano-auxiliar', 'cocina-integral', 'banos-de-servicio', 'jardin', 'piso-2', 'terraza-balcon-balcon', 'tipo-acabado-de-piso-ceramica', 'area-lote-130-m2'], 1231: ['citofonos', 'parqueadero-cubierto', 'ascensor', 'acceso-para-discapacitados', 'circuito-cerrado-de-tv', 'piscina', 'vista-panoramica', 'vigilancia-24hrs', 'sauna-turco', 'zona-de-lavanderia', 'instalacion-de-gas-natural', 'tipo-de-comedor-sala-comedor', 'gimnasio', 'salon-comunal', 'zona-para-ninos', 'zonas-verdes', 'terraza-balcon-balcon', 'zona-de-bbq', 'apto-para-ninos', 'aire-acondicionado', 'equipado-amoblado', 'closets-1', 'tipo-de-cocina-abierta', 'deposito-1', 'tipo-de-estufa-gas', 'calentador-gas', 'numero-de-ascensores-2', 'piso-10', 'area-terraza-balcon-2-m2', 'tipo-de-cortinas-pesadas'], 1232: ['citofonos', 'ascensor', 'circuito-cerrado-de-tv', 'piscina', 'vista-panoramica', 'jacuzzi', 'sauna-turco', 'zona-de-lavanderia', 'gimnasio', 'salon-comunal', 'cocina-integral', 'terraza-balcon-balcon', 'vigilancia', 'parqueadero-visitantes', 'porteria', 'zona-de-bbq', 'piso-3'], 1233: ['citofonos', 'estudio-o-biblioteca', 'parqueadero-cubierto', 'circuito-cerrado-de-tv', 'vista-panoramica', 'conjunto-cerrado', 'vigilancia-24hrs', 'jacuzzi', 'puerta-seguridad', 'zona-de-lavanderia', 'instalacion-de-gas-natural', 'tipo-de-comedor-sala-comedor', 'salon-comunal', 'zona-para-ninos', 'zonas-verdes', 'zona-de-bbq', 'apto-para-ninos', 'tipo-de-estufa-gas', 'calentador-gas', 'deposito-0', 'numero-de-ascensores-0', 'tipo-de-cortinas-ninguna', 'piso-5', 'tipo-de-cocina-lineal', 'closets-2', 'terraza-balcon-ninguno'], 1234: ['piso-15'], 1235: ['ascensor', 'piscina', 'salon-comunal', 'terraza-balcon-balcon', 'aire-acondicionado', 'piso-7', 'equipado-amoblado'], 1236: ['tipo-de-parqueadero-independiente', 'equipado-amoblado-no', 'vigilancia-0', 'tipo-de-casa-tradicional'], 1237: ['citofonos', 'ascensor', 'circuito-cerrado-de-tv', 'piscina', 'vista-panoramica', 'hall-de-alcobas', 'jacuzzi', 'sauna-turco', 'zona-de-lavanderia', 'gimnasio', 'salon-comunal', 'zona-para-ninos', 'bano-auxiliar', 'cocina-integral', 'banos-de-servicio', 'terraza-balcon-balcon', 'porteria', 'piso-8', 'zona-de-bbq', 'aire-acondicionado', 'equipado-amoblado', 'deposito-1', 'cocina-tipo-americano'], 1238: ['zona-de-lavanderia', 'piso-17'], 1239: ['citofonos', 'estudio-o-biblioteca', 'ascensor', 'circuito-cerrado-de-tv', 'piscina', 'hall-de-alcobas', 'jacuzzi', 'sauna-turco', 'salon-comunal', 'zona-para-ninos', 'bano-auxiliar', 'cocina-integral', 'banos-de-servicio', 'terraza-balcon-balcon', 'vigilancia', 'parqueadero-visitantes', 'con-terraza', 'porteria', 'piso-8', 'zona-de-bbq', 'aire-acondicionado', 'deposito-1'], 1240: ['ascensor', 'piscina', 'conjunto-cerrado', 'hall-de-alcobas', 'zona-de-lavanderia', 'gimnasio', 'salon-comunal', 'bano-auxiliar', 'cocina-integral', 'banos-de-servicio', 'terraza-balcon-balcon', 'vigilancia', 'parqueadero-visitantes', 'porteria', 'zona-de-bbq', 'tipo-acabado-de-piso-ceramica', 'cocina-tipo-americano', 'piso-17'], 1241: ['calentador-no-tiene', 'tipo-de-comedor-comedor-independiente'], 1242: ['parqueadero-cubierto', 'instalacion-de-gas-natural', 'closets-4', 'tipo-de-parqueadero-propio', 'calentador-no-tiene', 'tipo-de-comedor-comedor-independiente', 'tipo-acabado-de-piso-baldosa', 'tipo-de-piso-en-alcobas-baldosa', 'terraza-balcon-balcon', 'apto-para-ninos', 'equipado-amoblado', 'tipo-de-estufa-gas', 'deposito-0', 'tipo-de-cortinas-ninguna', 'tipo-de-cocina-lineal', 'area-terraza-balcon-3-m2', 'vigilancia-0', 'numero-de-lineas-telefonicas-0', 'tipo-de-casa-tradicional', 'area-lote-144-m2'], 1243: ['cuarto-de-servicio', 'zona-de-lavanderia', 'zonas-verdes', 'bano-auxiliar', 'banos-de-servicio', 'jardin', 'aire-acondicionado', 'piso-1', 'area-lote-283-m2'], 1244: ['vigilancia-24hrs', 'calentador-no-tiene', 'tipo-de-comedor-comedor-independiente', 'terraza-balcon-balcon', 'vigilancia', 'area-lote-66-11-m2'], 1245: ['estudio-o-biblioteca', 'conjunto-cerrado', 'hall-de-alcobas', 'zona-de-lavanderia', 'zona-para-ninos', 'bano-auxiliar', 'banos-de-servicio', 'vigilancia', 'porteria', 'cocina-tipo-americano', 'area-lote-97-m2'], 1246: ['citofonos', 'piscina', 'conjunto-cerrado', 'zona-de-lavanderia', 'salon-comunal', 'zona-para-ninos', 'zonas-verdes', 'caracteristicas-del-parqueadero-cubierto', 'cocina-integral', 'piso-en-baldosa', 'tipo-de-parqueadero-propio', 'vigilancia', 'parqueadero-visitantes', 'porteria', 'piso-1', 'cancha-s-de-tennis'], 1247: ['piso-1'], 1248: ['citofonos', 'ascensor', 'circuito-cerrado-de-tv', 'piscina', 'vista-panoramica', 'conjunto-cerrado', 'jacuzzi', 'sauna-turco', 'zona-de-lavanderia', 'gimnasio', 'salon-comunal', 'zona-para-ninos', 'zonas-verdes', 'bano-auxiliar', 'cocina-integral', 'banos-de-servicio', 'terraza-balcon-balcon', 'vigilancia', 'parqueadero-visitantes', 'porteria', 'zona-de-bbq', 'aire-acondicionado', 'equipado-amoblado', 'deposito-1', 'piso-5'], 1249: ['citofonos', 'comedor-auxiliar', 'parqueadero-cubierto', 'ascensor', 'acceso-para-discapacitados', 'circuito-cerrado-de-tv', 'piscina', 'vista-panoramica', 'conjunto-cerrado', 'vigilancia-24hrs', 'hall-de-alcobas', 'jacuzzi', 'sauna-turco', 'zona-de-lavanderia', 'instalacion-de-gas-natural', 'cancha-s-de-squash', 'gimnasio', 'salon-comunal', 'zona-para-ninos', 'calentador-no-tiene', 'terraza-balcon-balcon', 'zona-de-bbq', 'apto-para-ninos', 'aire-acondicionado', 'equipado-amoblado', 'tipo-de-cocina-abierta', 'numero-de-ascensores-2', 'closets-3', 'piso-17', 'tipo-de-cortinas-pesadas', 'area-terraza-balcon-7-m2'], 1250: ['piso-3'], 1251: ['ascensor', 'circuito-cerrado-de-tv', 'piscina', 'conjunto-cerrado', 'vigilancia-24hrs', 'sauna-turco', 'gimnasio', 'salon-comunal', 'zona-para-ninos', 'zonas-verdes', 'parqueadero-visitantes', 'zona-de-bbq'], 1252: ['citofonos', 'estudio-o-biblioteca', 'tipo-de-comedor-sala-comedor', 'tipo-de-cocina-lineal', 'instalacion-de-gas-ninguno', 'tipo-acabado-de-piso-otro', 'tipo-de-piso-en-alcobas-otro', 'vigilancia-0', 'tipo-de-piso-en-comedor-otro', 'tipo-de-piso-en-estudio-otro', 'tipo-de-piso-en-sala-otro'], 1253: ['ascensor', 'piscina', 'vista-panoramica', 'sauna-turco', 'gimnasio', 'banos-de-servicio', 'con-terraza', 'zona-de-bbq', 'vigilancia-24x7'], 1254: ['vigilancia-24hrs', 'tipo-de-comedor-sala-comedor', 'piso-4', 'tipo-de-parqueadero-independiente', 'equipado-amoblado-no'], 1255: ['citofonos', 'ascensor', 'piscina', 'terraza-balcon-terraza', 'gimnasio', 'salon-comunal', 'cocina-integral', 'piso-en-porcelanato', 'calentador-no-tiene', 'vigilancia', 'parqueadero-visitantes', 'zona-de-bbq', 'aire-acondicionado', 'piso-11', 'vista-exterior', 'tipo-de-cocina-lineal'], 1256: ['estudio-o-biblioteca', 'parqueadero-cubierto', 'terraza-balcon-terraza', 'zona-de-lavanderia', 'instalacion-de-gas-natural', 'closets-4', 'jardin', 'tipo-de-parqueadero-propio', 'tipo-de-comedor-comedor-independiente', 'apto-para-ninos', 'tipo-de-cocina-abierta', 'tipo-de-estufa-gas', 'deposito-0', 'area-terraza-balcon-5-m2', 'numero-de-ascensores-0', 'vista-exterior', 'tipo-acabado-de-piso-otro', 'fondo-16-m', 'ancho-9-m', 'tipo-de-casa-townhouse', 'area-lote-251-m2'], 1257: ['citofonos', 'ascensor', 'piscina', 'terraza-balcon-terraza', 'gimnasio', 'salon-comunal', 'cocina-integral', 'piso-en-porcelanato', 'calentador-no-tiene', 'vigilancia', 'parqueadero-visitantes', 'zona-de-bbq', 'aire-acondicionado', 'piso-1', 'vista-exterior', 'tipo-de-cocina-lineal'], 1258: ['citofonos', 'ascensor', 'conjunto-cerrado', 'numero-de-ascensores-1', 'vista-exterior', 'tipo-de-cocina-lineal', 'instalacion-de-gas-ninguno', 'tipo-acabado-de-piso-otro', 'tipo-de-piso-en-alcobas-otro', 'vigilancia-0', 'tipo-de-piso-en-comedor-otro', 'tipo-de-piso-en-estudio-otro', 'tipo-de-piso-en-sala-otro'], 1259: ['citofonos', 'vista-panoramica', 'conjunto-cerrado', 'zona-de-lavanderia', 'bano-auxiliar', 'cocina-integral', 'banos-de-servicio', 'terraza-balcon-balcon', 'vigilancia', 'tipo-acabado-de-piso-ceramica', 'equipado-amoblado', 'piso-5'], 1260: ['piso-1'], 1261: ['conjunto-cerrado', 'zona-de-lavanderia', 'piso-1'], 1262: ['citofonos', 'ascensor', 'circuito-cerrado-de-tv', 'piscina', 'vista-panoramica', 'conjunto-cerrado', 'jacuzzi', 'sauna-turco', 'zona-de-lavanderia', 'gimnasio', 'salon-comunal', 'zona-para-ninos', 'bano-auxiliar', 'cocina-integral', 'banos-de-servicio', 'terraza-balcon-balcon', 'vigilancia', 'parqueadero-visitantes', 'porteria', 'zona-de-bbq', 'aire-acondicionado', 'deposito-1', 'piso-6', 'vivienda-bifamiliar'], 1263: ['citofonos', 'ascensor', 'circuito-cerrado-de-tv', 'piscina', 'vista-panoramica', 'jacuzzi', 'zona-de-lavanderia', 'gimnasio', 'salon-comunal', 'zona-para-ninos', 'zonas-verdes', 'bano-auxiliar', 'cocina-integral', 'banos-de-servicio', 'terraza-balcon-balcon', 'vigilancia', 'parqueadero-visitantes', 'con-terraza', 'porteria', 'zona-de-bbq', 'aire-acondicionado', 'equipado-amoblado', 'deposito-1', 'cocina-tipo-americano'], 1264: ['piso-7'], 1265: ['salon-comunal', 'piso-2', 'area-lote-1429-m2'], 1266: ['comedor-auxiliar', 'cuarto-de-servicio', 'estudio-o-biblioteca', 'zona-de-lavanderia', 'bano-auxiliar', 'cocina-integral', 'banos-de-servicio', 'piso-2', 'terraza-balcon-balcon', 'area-lote-125-m2'], 1267: ['citofonos', 'vista-panoramica', 'piso-2', 'terraza-balcon-balcon', 'aire-acondicionado', 'alarma'], 1268: ['cuarto-de-servicio', 'parqueadero-cubierto', 'vigilancia-24hrs', 'zona-de-lavanderia', 'instalacion-de-gas-natural', 'tipo-de-comedor-sala-comedor', 'tipo-de-parqueadero-propio', 'apto-para-ninos', 'tipo-de-estufa-gas', 'deposito-0', 'numero-de-ascensores-0', 'piso-4', 'vista-exterior', 'tipo-de-cocina-lineal', 'terraza-balcon-ninguno'], 1269: ['citofonos', 'piscina', 'hall-de-alcobas', 'zona-de-lavanderia', 'zonas-verdes', 'bano-auxiliar', 'cocina-integral', 'banos-de-servicio', 'terraza-balcon-balcon', 'parqueadero-visitantes', 'porteria', 'aire-acondicionado', 'piso-9'], 1270: ['ascensor', 'salon-comunal', 'parqueadero-visitantes', 'porteria', 'zona-de-bbq', 'aire-acondicionado', 'equipado-amoblado', 'cancha-s-de-futbol'], 1271: ['citofonos', 'comedor-auxiliar', 'estudio-o-biblioteca', 'circuito-cerrado-de-tv', 'piscina', 'vista-panoramica', 'conjunto-cerrado', 'hall-de-alcobas', 'jacuzzi', 'zona-de-lavanderia', 'salon-comunal', 'zonas-verdes', 'bano-auxiliar', 'cocina-integral', 'banos-de-servicio', 'jardin', 'terraza-balcon-balcon', 'vigilancia', 'parqueadero-visitantes', 'porteria', 'zona-de-bbq', 'aire-acondicionado', 'tipo-acabado-de-piso-ceramica', 'deposito-1', 'calefaccion', 'cocina-tipo-americano', 'piso-3', 'area-lote-230-m2'], 1272: ['citofonos', 'bano-auxiliar', 'cocina-integral', 'piso-en-porcelanato', 'piso-1', 'cocina-tipo-americano', 'tipo-de-parqueadero-comunal', 'caracteristicas-del-parqueadero-exterior'], 1273: ['citofonos', 'ascensor', 'piscina', 'terraza-balcon-terraza', 'gimnasio', 'salon-comunal', 'cocina-integral', 'piso-en-porcelanato', 'calentador-no-tiene', 'vigilancia', 'parqueadero-visitantes', 'zona-de-bbq', 'aire-acondicionado', 'piso-6', 'vista-exterior', 'tipo-de-cocina-lineal'], 1274: ['piso-5'], 1275: ['hall-de-alcobas', 'zona-de-lavanderia', 'terraza-balcon-balcon', 'vigilancia', 'parqueadero-visitantes', 'porteria', 'tipo-acabado-de-piso-ceramica', 'piso-5'], 1276: ['citofonos', 'parqueadero-cubierto', 'ascensor', 'acceso-para-discapacitados', 'circuito-cerrado-de-tv', 'conjunto-cerrado', 'vigilancia-24hrs', 'instalacion-de-gas-natural', 'tipo-de-comedor-sala-comedor', 'gimnasio', 'salon-comunal', 'zona-para-ninos', 'zonas-verdes', 'tipo-de-parqueadero-propio', 'terraza-balcon-balcon', 'zona-de-bbq', 'apto-para-ninos', 'se-permite-fumar', 'tipo-acabado-de-piso-ceramica', 'tipo-de-piso-en-alcobas-ceramica', 'tipo-de-piso-en-comedor-ceramica', 'tipo-de-estufa-gas', 'calentador-gas', 'deposito-0', 'numero-de-ascensores-2', 'closets-3', 'piso-12', 'area-terraza-balcon-2-m2', 'tipo-de-cocina-isla'], 1277: ['piso-14'], 1278: ['citofonos', 'ascensor', 'circuito-cerrado-de-tv', 'piscina', 'vista-panoramica', 'conjunto-cerrado', 'jacuzzi', 'sauna-turco', 'zona-de-lavanderia', 'gimnasio', 'zona-para-ninos', 'zonas-verdes', 'bano-auxiliar', 'cocina-integral', 'banos-de-servicio', 'terraza-balcon-balcon', 'vigilancia', 'parqueadero-visitantes', 'porteria', 'zona-de-bbq', 'aire-acondicionado', 'piso-5'], 1279: ['ascensor', 'circuito-cerrado-de-tv', 'piscina', 'vista-panoramica', 'conjunto-cerrado', 'hall-de-alcobas', 'jacuzzi', 'zona-de-lavanderia', 'salon-comunal', 'bano-auxiliar', 'cocina-integral', 'banos-de-servicio', 'terraza-balcon-balcon', 'vigilancia', 'parqueadero-visitantes', 'porteria', 'aire-acondicionado', 'equipado-amoblado', 'piso-4'], 1280: ['zona-de-lavanderia', 'piso-1'], 1281: ['citofonos', 'cuarto-de-servicio', 'estudio-o-biblioteca', 'circuito-cerrado-de-tv', 'piscina', 'conjunto-cerrado', 'zona-de-lavanderia', 'salon-comunal', 'zona-para-ninos', 'zonas-verdes', 'bano-auxiliar', 'cocina-integral', 'banos-de-servicio', 'vigilancia', 'porteria', 'aire-acondicionado', 'alarma', 'deposito-1', 'cocina-tipo-americano', 'area-lote-291-m2'], 1282: ['circuito-cerrado-de-tv', 'vista-panoramica', 'zona-de-lavanderia', 'salon-comunal', 'zonas-verdes', 'bano-auxiliar', 'banos-de-servicio', 'deposito-o-cuarto-util', 'piso-2', 'terraza-balcon-balcon', 'vigilancia', 'zona-de-bbq', 'aire-acondicionado', 'equipado-amoblado', 'chimenea', 'area-lote-561-50-m2'], 1283: ['cuarto-de-servicio', 'circuito-cerrado-de-tv', 'piscina', 'vista-panoramica', 'salon-comunal', 'cocina-integral', 'terraza-balcon-balcon', 'vigilancia', 'parqueadero-visitantes', 'zona-de-bbq', 'aire-acondicionado', 'calefaccion', 'piso-3'], 1284: ['circuito-cerrado-de-tv', 'piscina', 'conjunto-cerrado', 'salon-comunal', 'zona-para-ninos', 'zonas-verdes', 'banos-de-servicio', 'cancha-s-de-futbol', 'vigilancia-24x7', 'cancha-s-de-basket'], 1285: ['ascensor', 'vista-panoramica', 'conjunto-cerrado', 'zona-de-lavanderia', 'instalacion-de-gas-natural', 'calentador-caldera', 'tipo-de-comedor-sala-comedor', 'tipo-de-parqueadero-propio', 'aire-acondicionado', 'equipado-amoblado', 'tipo-de-cocina-abierta', 'deposito-0', 'piso-9', 'vista-exterior', 'numero-de-ascensores-2'], 1286: ['parqueadero-cubierto', 'acceso-para-discapacitados', 'vista-panoramica', 'conjunto-cerrado', 'vigilancia-24hrs', 'zona-de-lavanderia', 'instalacion-de-gas-natural', 'tipo-de-comedor-sala-comedor', 'tipo-de-parqueadero-propio', 'calentador-no-tiene', 'aire-acondicionado', 'piso-7', 'equipado-amoblado', 'tipo-de-estufa-gas', 'deposito-0', 'tipo-de-cortinas-ninguna', 'closets-3', 'tipo-de-cocina-lineal', 'tipo-acabado-de-piso-porcelanato', 'tipo-de-piso-en-alcobas-porcelanato', 'terraza-balcon-ninguno'], 1287: ['citofonos', 'cuarto-de-servicio', 'parqueadero-cubierto', 'ascensor', 'acceso-para-discapacitados', 'circuito-cerrado-de-tv', 'piscina', 'vista-panoramica', 'conjunto-cerrado', 'vigilancia-24hrs', 'hall-de-alcobas', 'jacuzzi', 'puerta-seguridad', 'sauna-turco', 'zona-de-lavanderia', 'instalacion-de-gas-natural', 'gimnasio', 'salon-comunal', 'zona-para-ninos', 'zonas-verdes', 'calentador-no-tiene', 'zona-de-bbq', 'apto-para-ninos', 'aire-acondicionado', 'se-permite-fumar', 'equipado-amoblado', 'piso-9', 'numero-de-ascensores-2', 'closets-3'], 1288: ['comedor-auxiliar', 'cuarto-de-servicio', 'estudio-o-biblioteca', 'parqueadero-cubierto', 'circuito-cerrado-de-tv', 'vista-panoramica', 'terraza-balcon-terraza', 'vigilancia-24hrs', 'hall-de-alcobas', 'puerta-seguridad', 'instalacion-de-gas-natural', 'salon-comunal', 'zona-para-ninos', 'zonas-verdes', 'bano-auxiliar', 'banos-de-servicio', 'jardin', 'piso-en-baldosa', 'piso-en-porcelanato', 'patio', 'tipo-de-comedor-comedor-independiente', 'parqueadero-visitantes', 'zona-de-bbq', 'aire-acondicionado', 'alarma', 'tipo-de-cortinas-persianas', 'tipo-de-cocina-lineal', 'area-terraza-balcon-1-0-m2', 'cancha-s-de-tennis'], 1289: ['estudio-o-biblioteca', 'tipo-de-parqueadero-propio', 'equipado-amoblado-no', 'vigilancia-0', 'tipo-de-casa-tradicional'], 1290: ['citofonos', 'comedor-auxiliar', 'cuarto-de-servicio', 'circuito-cerrado-de-tv', 'piscina', 'conjunto-cerrado', 'bano-auxiliar', 'banos-de-servicio', 'jardin', 'piso-2', 'terraza-balcon-balcon', 'vigilancia', 'zona-de-bbq', 'aire-acondicionado', 'tipo-acabado-de-piso-ceramica', 'equipado-amoblado', 'deposito-1', 'calefaccion', 'area-lote-150-m2'], 1291: ['citofonos', 'comedor-auxiliar', 'ascensor', 'circuito-cerrado-de-tv', 'piscina', 'conjunto-cerrado', 'hall-de-alcobas', 'zona-de-lavanderia', 'salon-comunal', 'zonas-verdes', 'cocina-integral', 'terraza-balcon-balcon', 'vigilancia', 'parqueadero-visitantes', 'con-terraza', 'porteria', 'zona-de-bbq', 'aire-acondicionado', 'tipo-acabado-de-piso-ceramica', 'equipado-amoblado', 'piso-4'], 1292: ['zona-de-lavanderia', 'caracteristicas-del-parqueadero-cubierto', 'cocina-integral', 'piso-en-porcelanato', 'patio', 'tipo-de-parqueadero-propio', 'aire-acondicionado', 'piso-1', 'cocina-tipo-americano'], 1293: ['piso-13'], 1294: ['cuarto-de-servicio', 'estudio-o-biblioteca', 'parqueadero-cubierto', 'ascensor', 'acceso-para-discapacitados', 'vista-panoramica', 'conjunto-cerrado', 'terraza-balcon-terraza', 'vigilancia-24hrs', 'hall-de-alcobas', 'sauna-turco', 'zona-de-lavanderia', 'tipo-de-comedor-sala-comedor', 'gimnasio', 'salon-comunal', 'zona-para-ninos', 'tipo-de-parqueadero-propio', 'zona-de-bbq', 'apto-para-ninos', 'deposito-1', 'numero-de-ascensores-1', 'vista-exterior', 'piso-12', 'tipo-acabado-de-piso-porcelanato', 'tipo-de-cocina-paralela', 'area-terraza-balcon-12-m2'], 1295: ['conjunto-cerrado', 'zonas-verdes', 'bano-auxiliar', 'banos-de-servicio', 'terraza-balcon-balcon', 'vigilancia', 'parqueadero-visitantes', 'porteria', 'piso-5', 'cancha-s-de-futbol'], 1296: ['ascensor', 'acceso-para-discapacitados', 'circuito-cerrado-de-tv', 'piscina', 'vista-panoramica', 'conjunto-cerrado', 'vigilancia-24hrs', 'jacuzzi', 'sauna-turco', 'zona-de-lavanderia', 'instalacion-de-gas-natural', 'tipo-de-comedor-sala-comedor', 'gimnasio', 'salon-comunal', 'zona-para-ninos', 'zonas-verdes', 'tipo-de-parqueadero-propio', 'terraza-balcon-balcon', 'zona-de-bbq', 'apto-para-ninos', 'aire-acondicionado', 'equipado-amoblado', 'deposito-1', 'tipo-de-estufa-gas', 'calentador-gas', 'tipo-de-cortinas-ninguna', 'numero-de-ascensores-2', 'closets-3', 'piso-5', 'tipo-de-cocina-lineal', 'area-terraza-balcon-10-m2'], 1297: ['citofonos', 'parqueadero-cubierto', 'ascensor', 'acceso-para-discapacitados', 'circuito-cerrado-de-tv', 'vista-panoramica', 'conjunto-cerrado', 'vigilancia-24hrs', 'puerta-seguridad', 'sauna-turco', 'zona-de-lavanderia', 'instalacion-de-gas-natural', 'tipo-de-comedor-sala-comedor', 'gimnasio', 'salon-comunal', 'zona-para-ninos', 'zonas-verdes', 'piso-8', 'zona-de-bbq', 'apto-para-ninos', 'alarma', 'equipado-amoblado', 'numero-de-ascensores-1', 'tipo-de-estufa-gas', 'calentador-gas', 'deposito-0', 'tipo-de-cocina-lineal', 'closets-2'], 1298: ['comedor-auxiliar', 'circuito-cerrado-de-tv', 'piscina', 'vista-panoramica', 'hall-de-alcobas', 'zona-de-lavanderia', 'salon-comunal', 'zona-para-ninos', 'zonas-verdes', 'bano-auxiliar', 'cocina-integral', 'banos-de-servicio', 'terraza-balcon-balcon', 'vigilancia', 'con-terraza', 'porteria', 'aire-acondicionado', 'deposito-1', 'cancha-s-de-futbol', 'cancha-s-de-tennis', 'piso-19'], 1299: ['cuarto-de-servicio', 'hall-de-alcobas', 'zona-de-lavanderia', 'bano-auxiliar', 'cocina-integral', 'banos-de-servicio', 'piso-2', 'terraza-balcon-balcon'], 1300: ['ascensor', 'circuito-cerrado-de-tv', 'piscina', 'conjunto-cerrado', 'hall-de-alcobas', 'zona-de-lavanderia', 'cancha-s-de-squash', 'gimnasio', 'salon-comunal', 'zona-para-ninos', 'zonas-verdes', 'bano-auxiliar', 'cocina-integral', 'banos-de-servicio', 'terraza-balcon-balcon', 'vigilancia', 'porteria', 'tipo-acabado-de-piso-ceramica', 'piso-11', 'cocina-tipo-americano', 'cancha-s-de-futbol'], 1301: ['parqueadero-cubierto', 'piscina', 'terraza-balcon-terraza', 'jacuzzi', 'zona-de-lavanderia', 'deposito-o-cuarto-util', 'jardin', 'patio', 'aire-acondicionado', 'equipado-amoblado', 'cocina-tipo-americano', 'tipo-de-cocina-lineal', 'tipo-de-parqueadero-independiente', 'instalacion-de-gas-ninguno', 'vigilancia-0', 'area-terraza-balcon-1-0-m2', 'tipo-acabado-de-piso-cemento', 'tipo-de-piso-en-alcobas-cemento', 'tipo-de-piso-en-comedor-cemento', 'tipo-de-piso-en-estudio-cemento', 'tipo-de-piso-en-sala-cemento'], 1302: ['vista-panoramica', 'conjunto-cerrado', 'zona-de-lavanderia', 'zonas-verdes', 'bano-auxiliar', 'banos-de-servicio', 'jardin', 'area-lote-70-m2'], 1303: ['cuarto-de-servicio', 'piscina', 'zona-de-lavanderia', 'salon-comunal', 'zona-para-ninos', 'zonas-verdes', 'bano-auxiliar', 'caracteristicas-del-parqueadero-cubierto', 'banos-de-servicio', 'deposito-o-cuarto-util', 'piso-en-porcelanato', 'tipo-de-parqueadero-propio', 'vigilancia', 'parqueadero-visitantes', 'con-terraza', 'porteria', 'aire-acondicionado', 'equipado-amoblado', 'piso-3'], 1304: ['citofonos', 'ascensor', 'terraza-balcon-terraza', 'zona-de-lavanderia', 'tipo-de-comedor-sala-comedor', 'gimnasio', 'salon-comunal', 'piso-en-porcelanato', 'calentador-no-tiene', 'vigilancia', 'parqueadero-visitantes', 'zona-de-bbq', 'vista-exterior', 'tipo-de-cocina-lineal', 'piso-16'], 1305: ['ascensor', 'salon-comunal', 'porteria', 'piso-8', 'aire-acondicionado', 'equipado-amoblado', 'cocina-tipo-americano'], 1306: ['citofonos', 'estudio-o-biblioteca', 'parqueadero-cubierto', 'ascensor', 'vista-panoramica', 'conjunto-cerrado', 'vigilancia-24hrs', 'zona-de-lavanderia', 'instalacion-de-gas-natural', 'closets-4', 'tipo-de-comedor-sala-comedor', 'zonas-verdes', 'piso-2', 'tipo-de-parqueadero-propio', 'terraza-balcon-balcon', 'tipo-acabado-de-piso-ceramica', 'tipo-de-piso-en-alcobas-ceramica', 'tipo-de-piso-en-comedor-ceramica', 'tipo-de-piso-en-estudio-ceramica', 'numero-de-ascensores-1', 'tipo-de-estufa-gas', 'calentador-gas', 'area-terraza-balcon-5-m2', 'tipo-de-cocina-lineal'], 1307: ['ascensor', 'piscina', 'cancha-s-de-squash', 'gimnasio', 'salon-comunal', 'cocina-integral', 'vigilancia', 'parqueadero-visitantes', 'porteria', 'piso-15'], 1308: ['citofonos', 'ascensor', 'piscina', 'vista-panoramica', 'hall-de-alcobas', 'zona-de-lavanderia', 'gimnasio', 'salon-comunal', 'cocina-integral', 'terraza-balcon-balcon', 'parqueadero-visitantes', 'zona-de-bbq', 'aire-acondicionado', 'equipado-amoblado', 'deposito-1', 'cancha-s-de-futbol', 'piso-18'], 1309: ['citofonos', 'ascensor', 'circuito-cerrado-de-tv', 'piscina', 'vista-panoramica', 'conjunto-cerrado', 'zona-de-lavanderia', 'gimnasio', 'zona-para-ninos', 'zonas-verdes', 'cocina-integral', 'piso-14', 'vigilancia', 'parqueadero-visitantes', 'con-terraza', 'porteria', 'zona-de-bbq', 'aire-acondicionado', 'equipado-amoblado', 'deposito-1', 'cancha-s-de-futbol'], 1310: ['piso-13'], 1311: ['ascensor', 'salon-comunal', 'zona-para-ninos', 'calentador-no-tiene', 'tipo-de-comedor-comedor-independiente', 'terraza-balcon-balcon'], 1312: ['citofonos', 'parqueadero-cubierto', 'acceso-para-discapacitados', 'circuito-cerrado-de-tv', 'piscina', 'conjunto-cerrado', 'vigilancia-24hrs', 'hall-de-alcobas', 'zona-de-lavanderia', 'instalacion-de-gas-natural', 'tipo-de-comedor-sala-comedor', 'salon-comunal', 'zona-para-ninos', 'zonas-verdes', 'tipo-de-parqueadero-propio', 'zona-de-bbq', 'apto-para-ninos', 'se-permite-fumar', 'tipo-acabado-de-piso-ceramica', 'tipo-de-piso-en-alcobas-ceramica', 'tipo-de-estufa-gas', 'deposito-0', 'numero-de-ascensores-0', 'piso-4', 'closets-3', 'tipo-de-cocina-paralela'], 1313: ['citofonos', 'ascensor', 'piscina', 'conjunto-cerrado', 'jacuzzi', 'sauna-turco', 'zona-de-lavanderia', 'salon-comunal', 'zona-para-ninos', 'zonas-verdes', 'cocina-integral', 'deposito-o-cuarto-util', 'piso-en-porcelanato', 'tipo-de-parqueadero-propio', 'vigilancia', 'parqueadero-visitantes', 'con-terraza', 'porteria', 'aire-acondicionado', 'equipado-amoblado', 'piso-5', 'caracteristicas-del-parqueadero-exterior'], 1314: ['citofonos', 'parqueadero-cubierto', 'ascensor', 'acceso-para-discapacitados', 'circuito-cerrado-de-tv', 'piscina', 'vista-panoramica', 'conjunto-cerrado', 'vigilancia-24hrs', 'jacuzzi', 'sauna-turco', 'zona-de-lavanderia', 'instalacion-de-gas-natural', 'gimnasio', 'salon-comunal', 'zona-para-ninos', 'zonas-verdes', 'bano-auxiliar', 'cocina-integral', 'banos-de-servicio', 'terraza-balcon-balcon', 'vigilancia', 'parqueadero-visitantes', 'porteria', 'zona-de-bbq', 'apto-para-ninos', 'aire-acondicionado', 'equipado-amoblado', 'area-terraza-balcon-5-m2', 'calefaccion', 'cocina-tipo-americano', 'cancha-s-de-futbol', 'numero-de-ascensores-3', 'closets-2', 'tipo-de-cortinas-pesadas', 'jaula-de-golf'], 1315: ['citofonos', 'comedor-auxiliar', 'cuarto-de-servicio', 'estudio-o-biblioteca', 'parqueadero-cubierto', 'ascensor', 'acceso-para-discapacitados', 'circuito-cerrado-de-tv', 'piscina', 'conjunto-cerrado', 'vigilancia-24hrs', 'hall-de-alcobas', 'jacuzzi', 'sauna-turco', 'zona-de-lavanderia', 'instalacion-de-gas-natural', 'gimnasio', 'salon-comunal', 'zona-para-ninos', 'zonas-verdes', 'terraza-balcon-balcon', 'zona-de-bbq', 'apto-para-ninos', 'aire-acondicionado', 'calentador-gas', 'tipo-de-cortinas-ninguna', 'numero-de-ascensores-2', 'closets-2', 'area-terraza-balcon-10-m2', 'piso-08'], 1316: ['tipo-de-cocina-lineal', 'instalacion-de-gas-ninguno', 'tipo-acabado-de-piso-otro', 'tipo-de-piso-en-alcobas-otro', 'vigilancia-0', 'tipo-de-piso-en-comedor-otro', 'tipo-de-piso-en-estudio-otro', 'tipo-de-piso-en-sala-otro'], 1317: ['citofonos', 'piscina', 'conjunto-cerrado', 'hall-de-alcobas', 'zonas-verdes', 'bano-auxiliar', 'cocina-integral', 'banos-de-servicio', 'terraza-balcon-balcon', 'vigilancia', 'parqueadero-visitantes', 'con-terraza', 'porteria', 'deposito-1', 'piso-5'], 1318: ['piscina', 'vigilancia-24hrs', 'hall-de-alcobas', 'tipo-de-comedor-sala-comedor', 'salon-comunal', 'zona-para-ninos', 'tipo-acabado-de-piso-ceramica', 'tipo-de-piso-en-alcobas-ceramica', 'tipo-de-piso-en-comedor-ceramica', 'tipo-de-piso-en-estudio-ceramica', 'tipo-de-piso-en-sala-ceramica', 'tipo-de-cocina-lineal', 'instalacion-de-gas-ninguno'], 1319: ['circuito-cerrado-de-tv', 'piscina', 'terraza-balcon-terraza', 'jacuzzi', 'zona-de-lavanderia', 'gimnasio', 'salon-comunal', 'cocina-integral', 'piso-en-porcelanato', 'vigilancia', 'zona-de-bbq', 'aire-acondicionado', 'calentador-gas', 'piso-5', 'tipo-de-cocina-lineal'], 1320: ['parqueadero-cubierto', 'hall-de-alcobas', 'zona-de-lavanderia', 'tipo-de-comedor-sala-comedor', 'tipo-acabado-de-piso-ceramica', 'tipo-de-piso-en-alcobas-ceramica', 'tipo-de-piso-en-comedor-ceramica', 'tipo-de-piso-en-sala-ceramica', 'tipo-de-estufa-gas', 'deposito-0', 'vista-exterior', 'closets-3', 'tipo-de-cocina-lineal', 'vigilancia-0', 'tipo-de-casa-tradicional'], 1321: ['citofonos', 'ascensor', 'circuito-cerrado-de-tv', 'vista-panoramica', 'hall-de-alcobas', 'zona-de-lavanderia', 'salon-comunal', 'zonas-verdes', 'bano-auxiliar', 'cocina-integral', 'banos-de-servicio', 'piso-14', 'vigilancia', 'parqueadero-visitantes', 'porteria', 'aire-acondicionado', 'equipado-amoblado'], 1322: ['calentador-no-tiene', 'fondo-0-0-m'], 1323: ['citofonos', 'cuarto-de-servicio', 'estudio-o-biblioteca', 'ascensor', 'acceso-para-discapacitados', 'circuito-cerrado-de-tv', 'conjunto-cerrado', 'vigilancia-24hrs', 'sauna-turco', 'gimnasio', 'salon-comunal', 'zona-para-ninos', 'zonas-verdes', 'tipo-de-parqueadero-propio', 'zona-de-bbq', 'apto-para-ninos', 'piso-1', 'numero-de-ascensores-1', 'cancha-s-de-futbol'], 1324: ['cuarto-de-servicio', 'estudio-o-biblioteca', 'conjunto-cerrado', 'zona-de-lavanderia', 'bano-auxiliar', 'cocina-integral', 'banos-de-servicio', 'piso-2', 'terraza-balcon-balcon', 'vigilancia', 'porteria', 'tipo-acabado-de-piso-ceramica', 'deposito-1', 'area-lote-116-m2'], 1325: ['piso-5'], 1326: ['cuarto-de-servicio', 'conjunto-cerrado', 'terraza-balcon-terraza', 'vigilancia-24hrs', 'instalacion-de-gas-natural', 'tipo-de-comedor-sala-comedor', 'banos-de-servicio', 'patio', 'tipo-acabado-de-piso-ceramica', 'tipo-de-piso-en-alcobas-ceramica', 'tipo-de-piso-en-comedor-ceramica', 'tipo-de-piso-en-estudio-ceramica', 'tipo-de-piso-en-sala-ceramica', 'tipo-de-cortinas-persianas', 'tipo-de-cocina-lineal', 'tipo-de-parqueadero-independiente', 'area-terraza-balcon-1-0-m2', 'vista-interior'], 1327: ['piso-5'], 1328: ['cuarto-de-servicio', 'terraza-balcon-terraza', 'deposito-0', 'piso-0'], 1329: ['bano-auxiliar', 'banos-de-servicio', 'piso-en-baldosa', 'vigilancia', 'porteria', 'aire-acondicionado', 'alarma', 'equipado-amoblado', 'piso-5'], 1330: ['ascensor', 'piscina', 'conjunto-cerrado', 'zona-para-ninos', 'vigilancia', 'parqueadero-visitantes', 'porteria', 'aire-acondicionado', 'equipado-amoblado', 'piso-5', 'piso-en-madera'], 1331: ['parqueadero-cubierto', 'piscina', 'vista-panoramica', 'conjunto-cerrado', 'vigilancia-24hrs', 'tipo-de-comedor-sala-comedor', 'gimnasio', 'salon-comunal', 'zona-para-ninos', 'terraza-balcon-balcon', 'parqueadero-visitantes', 'zona-de-bbq', 'apto-para-ninos', 'tipo-acabado-de-piso-ceramica', 'tipo-de-piso-en-alcobas-ceramica', 'tipo-de-piso-en-comedor-ceramica', 'tipo-de-piso-en-estudio-ceramica', 'tipo-de-piso-en-sala-ceramica', 'alarma', 'closets-1', 'vista-exterior', 'tipo-de-cocina-lineal', 'tipo-de-parqueadero-independiente', 'cancha-s-de-futbol', 'cancha-s-de-basket', 'instalacion-de-gas-propano'], 1332: ['citofonos', 'ascensor', 'circuito-cerrado-de-tv', 'piscina', 'zona-de-lavanderia', 'salon-comunal', 'bano-auxiliar', 'cocina-integral', 'banos-de-servicio', 'terraza-balcon-balcon', 'con-terraza', 'porteria', 'zona-de-bbq', 'aire-acondicionado', 'tipo-acabado-de-piso-ceramica', 'equipado-amoblado', 'piso-6', 'calefaccion', 'cocina-tipo-americano'], 1333: ['citofonos', 'vigilancia-24hrs', 'hall-de-alcobas', 'instalacion-de-gas-natural', 'tipo-de-comedor-sala-comedor', 'salon-comunal', 'zona-para-ninos', 'zonas-verdes', 'calentador-no-tiene', 'vigilancia', 'tipo-acabado-de-piso-ceramica', 'tipo-de-piso-en-alcobas-ceramica', 'tipo-de-piso-en-comedor-ceramica', 'tipo-de-piso-en-estudio-ceramica', 'tipo-de-piso-en-sala-ceramica', 'tipo-de-estufa-gas'], 1334: ['cuarto-de-servicio', 'ascensor', 'circuito-cerrado-de-tv', 'hall-de-alcobas', 'jacuzzi', 'sauna-turco', 'salon-comunal', 'zonas-verdes', 'bano-auxiliar', 'banos-de-servicio', 'terraza-balcon-balcon', 'vigilancia', 'parqueadero-visitantes', 'porteria', 'piso-8', 'zona-de-bbq', 'aire-acondicionado', 'equipado-amoblado', 'deposito-1', 'calefaccion'], 1335: ['citofonos', 'circuito-cerrado-de-tv', 'terraza-balcon-terraza', 'vigilancia-24hrs', 'instalacion-de-gas-natural', 'tipo-de-comedor-sala-comedor', 'zonas-verdes', 'banos-de-servicio', 'parqueadero-visitantes', 'aire-acondicionado', 'equipado-amoblado', 'closets-1', 'tipo-de-cocina-lineal', 'area-terraza-balcon-1-0-m2', 'vista-interior', 'tipo-acabado-de-piso-marmol', 'tipo-de-piso-en-alcobas-marmol', 'tipo-de-piso-en-sala-marmol', 'tipo-de-piso-en-comedor-marmol', 'tipo-de-piso-en-estudio-marmol'], 1336: ['citofonos', 'comedor-auxiliar', 'cuarto-de-servicio', 'estudio-o-biblioteca', 'ascensor', 'acceso-para-discapacitados', 'circuito-cerrado-de-tv', 'piscina', 'vista-panoramica', 'conjunto-cerrado', 'vigilancia-24hrs', 'hall-de-alcobas', 'puerta-seguridad', 'zona-de-lavanderia', 'instalacion-de-gas-natural', 'tipo-de-comedor-sala-comedor', 'cancha-s-de-squash', 'gimnasio', 'salon-comunal', 'zona-para-ninos', 'zonas-verdes', 'calentador-no-tiene', 'terraza-balcon-balcon', 'zona-de-bbq', 'apto-para-ninos', 'se-permite-fumar', 'deposito-1', 'piso-15', 'numero-de-ascensores-2', 'closets-3', 'tipo-de-cocina-isla', 'area-terraza-balcon-8-m2'], 1337: ['citofonos', 'cuarto-de-servicio', 'estudio-o-biblioteca', 'parqueadero-cubierto', 'piscina', 'terraza-balcon-terraza', 'vigilancia-24hrs', 'hall-de-alcobas', 'instalacion-de-gas-natural', 'zona-para-ninos', 'zonas-verdes', 'bano-auxiliar', 'cocina-integral', 'banos-de-servicio', 'jardin', 'closets-1', 'calentador-gas', 'cocina-tipo-americano', 'tipo-de-cocina-lineal', 'area-terraza-balcon-1-0-m2', 'tipo-acabado-de-piso-porcelanato', 'tipo-de-piso-en-alcobas-porcelanato', 'tipo-de-piso-en-comedor-porcelanato', 'tipo-de-piso-en-estudio-porcelanato'], 1338: ['bano-auxiliar', 'banos-de-servicio', 'terraza-balcon-balcon', 'aire-acondicionado', 'area-lote-420-m2'], 1339: ['zona-de-lavanderia', 'bano-auxiliar', 'cocina-integral', 'banos-de-servicio', 'piso-2', 'aire-acondicionado', 'area-lote-113-m2'], 1340: ['calentador-no-tiene'], 1341: ['calentador-no-tiene'], 1342: ['parqueadero-cubierto', 'conjunto-cerrado', 'vigilancia-24hrs', 'hall-de-alcobas', 'instalacion-de-gas-natural', 'tipo-de-comedor-sala-comedor', 'zona-para-ninos', 'zonas-verdes', 'bano-auxiliar', 'banos-de-servicio', 'tipo-de-parqueadero-propio', 'calentador-no-tiene', 'vigilancia', 'porteria', 'apto-para-ninos', 'aire-acondicionado', 'tipo-de-estufa-gas', 'numero-de-ascensores-0', 'closets-3', 'tipo-de-cocina-en-l', 'piso-3', 'tipo-de-cortinas-con-velos', 'terraza-balcon-ninguno', 'tipo-acabado-de-piso-marmol'], 1343: ['citofonos', 'ascensor', 'piscina', 'vista-panoramica', 'conjunto-cerrado', 'hall-de-alcobas', 'salon-comunal', 'cocina-integral', 'piso-2', 'terraza-balcon-balcon', 'vigilancia', 'parqueadero-visitantes', 'con-terraza', 'porteria', 'aire-acondicionado'], 1344: ['citofonos', 'ascensor', 'circuito-cerrado-de-tv', 'piscina', 'vista-panoramica', 'hall-de-alcobas', 'salon-comunal', 'bano-auxiliar', 'cocina-integral', 'banos-de-servicio', 'terraza-balcon-balcon', 'vigilancia', 'porteria', 'aire-acondicionado', 'alarma', 'equipado-amoblado', 'calefaccion', 'cocina-tipo-americano', 'piso-26'], 1345: ['citofonos', 'ascensor', 'circuito-cerrado-de-tv', 'piscina', 'vista-panoramica', 'zona-de-lavanderia', 'salon-comunal', 'zona-para-ninos', 'zonas-verdes', 'bano-auxiliar', 'banos-de-servicio', 'terraza-balcon-balcon', 'vigilancia', 'parqueadero-visitantes', 'piso-11'], 1346: ['citofonos', 'parqueadero-cubierto', 'ascensor', 'piscina', 'conjunto-cerrado', 'vigilancia-24hrs', 'instalacion-de-gas-natural', 'tipo-de-comedor-sala-comedor', 'salon-comunal', 'zona-para-ninos', 'zonas-verdes', 'calentador-no-tiene', 'terraza-balcon-balcon', 'tipo-acabado-de-piso-ceramica', 'tipo-de-piso-en-alcobas-ceramica', 'tipo-de-piso-en-comedor-ceramica', 'tipo-de-piso-en-sala-ceramica', 'tipo-de-estufa-gas', 'deposito-0', 'piso-6', 'tipo-de-cortinas-ninguna', 'numero-de-ascensores-2', 'tipo-de-cocina-lineal', 'tipo-de-parqueadero-independiente', 'closets-2', 'area-terraza-balcon-2-m2'], 1347: ['citofonos', 'estudio-o-biblioteca', 'ascensor', 'piscina', 'vista-panoramica', 'conjunto-cerrado', 'hall-de-alcobas', 'zona-de-lavanderia', 'gimnasio', 'salon-comunal', 'bano-auxiliar', 'cocina-integral', 'banos-de-servicio', 'terraza-balcon-balcon', 'vigilancia', 'parqueadero-visitantes', 'porteria', 'zona-de-bbq', 'piso-7', 'deposito-1', 'calefaccion', 'cancha-s-de-futbol', 'cancha-s-de-tennis'], 1348: ['banos-de-servicio', 'calentador-no-tiene', 'tipo-de-comedor-comedor-independiente', 'tipo-acabado-de-piso-baldosa', 'terraza-balcon-balcon', 'area-lote-140-22-m2'], 1349: ['ascensor', 'acceso-para-discapacitados', 'piscina', 'vigilancia-24hrs', 'instalacion-de-gas-natural', 'tipo-de-comedor-sala-comedor', 'gimnasio', 'zona-para-ninos', 'zonas-verdes', 'cocina-integral', 'terraza-balcon-balcon', 'parqueadero-visitantes', 'zona-de-bbq', 'apto-para-ninos', 'alarma', 'numero-de-ascensores-1', 'tipo-de-cocina-lineal', 'tipo-acabado-de-piso-porcelanato', 'tipo-de-piso-en-alcobas-porcelanato', 'tipo-de-piso-en-comedor-porcelanato', 'tipo-de-piso-en-estudio-porcelanato', 'tipo-de-piso-en-sala-porcelanato', 'vista-interior', 'cancha-s-de-tennis'], 1350: ['citofonos', 'estudio-o-biblioteca', 'ascensor', 'circuito-cerrado-de-tv', 'piscina', 'gimnasio', 'salon-comunal', 'bano-auxiliar', 'banos-de-servicio', 'terraza-balcon-balcon', 'calefaccion', 'piso-4'], 1351: ['piscina', 'vista-panoramica', 'zona-de-lavanderia', 'zona-para-ninos', 'zonas-verdes', 'bano-auxiliar', 'cocina-integral', 'banos-de-servicio', 'jardin', 'terraza-balcon-balcon', 'deposito-1', 'cocina-tipo-americano', 'piso-3', 'area-lote-962-m2'], 1352: ['cuarto-de-servicio', 'ascensor', 'circuito-cerrado-de-tv', 'piscina', 'vista-panoramica', 'conjunto-cerrado', 'hall-de-alcobas', 'zona-de-lavanderia', 'gimnasio', 'bano-auxiliar', 'cocina-integral', 'banos-de-servicio', 'terraza-balcon-balcon', 'vigilancia', 'con-terraza', 'porteria', 'aire-acondicionado', 'tipo-acabado-de-piso-ceramica', 'equipado-amoblado', 'deposito-1', 'calefaccion', 'piso-19'], 1353: ['citofonos', 'ascensor', 'circuito-cerrado-de-tv', 'jacuzzi', 'zona-de-lavanderia', 'salon-comunal', 'bano-auxiliar', 'cocina-integral', 'banos-de-servicio', 'con-terraza', 'porteria', 'zona-de-bbq', 'piso-6', 'calefaccion'], 1354: ['citofonos', 'cuarto-de-servicio', 'ascensor', 'circuito-cerrado-de-tv', 'piscina', 'vista-panoramica', 'hall-de-alcobas', 'zona-de-lavanderia', 'gimnasio', 'salon-comunal', 'zonas-verdes', 'bano-auxiliar', 'cocina-integral', 'banos-de-servicio', 'terraza-balcon-balcon', 'vigilancia', 'parqueadero-visitantes', 'con-terraza', 'porteria', 'zona-de-bbq', 'aire-acondicionado', 'deposito-1', 'calefaccion', 'piso-21'], 1355: ['piso-5'], 1356: ['citofonos', 'ascensor', 'circuito-cerrado-de-tv', 'piscina', 'vista-panoramica', 'conjunto-cerrado', 'jacuzzi', 'sauna-turco', 'zona-de-lavanderia', 'gimnasio', 'salon-comunal', 'bano-auxiliar', 'cocina-integral', 'banos-de-servicio', 'terraza-balcon-balcon', 'vigilancia', 'parqueadero-visitantes', 'porteria', 'zona-de-bbq', 'aire-acondicionado', 'tipo-acabado-de-piso-ceramica', 'piso-13'], 1357: ['citofonos', 'estudio-o-biblioteca', 'parqueadero-cubierto', 'ascensor', 'acceso-para-discapacitados', 'circuito-cerrado-de-tv', 'piscina', 'vista-panoramica', 'conjunto-cerrado', 'vigilancia-24hrs', 'hall-de-alcobas', 'sauna-turco', 'zona-de-lavanderia', 'instalacion-de-gas-natural', 'tipo-de-comedor-sala-comedor', 'gimnasio', 'salon-comunal', 'zona-para-ninos', 'zonas-verdes', 'zona-de-bbq', 'apto-para-ninos', 'aire-acondicionado', 'se-permite-fumar', 'piso-7', 'tipo-de-cocina-abierta', 'deposito-1', 'numero-de-ascensores-1', 'calefaccion', 'closets-2'], 1358: ['citofonos', 'ascensor', 'circuito-cerrado-de-tv', 'piscina', 'vista-panoramica', 'conjunto-cerrado', 'jacuzzi', 'sauna-turco', 'zona-de-lavanderia', 'salon-comunal', 'zona-para-ninos', 'zonas-verdes', 'bano-auxiliar', 'cocina-integral', 'banos-de-servicio', 'terraza-balcon-balcon', 'vigilancia', 'parqueadero-visitantes', 'con-terraza', 'porteria', 'zona-de-bbq', 'aire-acondicionado', 'calefaccion', 'cancha-s-de-futbol', 'piso-12'], 1359: ['parqueadero-cubierto', 'ascensor', 'vista-panoramica', 'conjunto-cerrado', 'zona-de-lavanderia', 'instalacion-de-gas-natural', 'closets-4', 'calentador-caldera', 'tipo-de-comedor-sala-comedor', 'terraza-balcon-balcon', 'aire-acondicionado', 'tipo-de-cocina-abierta', 'deposito-1', 'tipo-de-cortinas-persianas', 'vista-exterior', 'numero-de-ascensores-2', 'tipo-de-parqueadero-independiente', 'piso-12', 'tipo-acabado-de-piso-porcelanato', 'area-terraza-balcon-8-m2', 'tipo-de-estufa-mixta'], 1360: ['citofonos', 'cuarto-de-servicio', 'estudio-o-biblioteca', 'parqueadero-cubierto', 'ascensor', 'acceso-para-discapacitados', 'circuito-cerrado-de-tv', 'piscina', 'vista-panoramica', 'conjunto-cerrado', 'vigilancia-24hrs', 'hall-de-alcobas', 'sauna-turco', 'zona-de-lavanderia', 'instalacion-de-gas-natural', 'tipo-de-comedor-sala-comedor', 'gimnasio', 'salon-comunal', 'zona-para-ninos', 'zonas-verdes', 'piso-2', 'terraza-balcon-balcon', 'apto-para-ninos', 'aire-acondicionado', 'deposito-1', 'numero-de-ascensores-1', 'calentador-gas', 'tipo-de-cortinas-ninguna', 'closets-3', 'area-terraza-balcon-2-m2'], 1361: ['estudio-o-biblioteca', 'parqueadero-cubierto', 'acceso-para-discapacitados', 'terraza-balcon-terraza', 'zona-de-lavanderia', 'instalacion-de-gas-natural', 'tipo-de-comedor-sala-comedor', 'zonas-verdes', 'tipo-de-parqueadero-propio', 'tipo-acabado-de-piso-baldosa', 'apto-para-ninos', 'calentador-gas', 'deposito-0', 'numero-de-ascensores-0', 'vista-exterior', 'tipo-de-cortinas-ninguna', 'closets-3', 'tipo-de-cocina-en-l', 'vigilancia-0', 'area-terraza-balcon-10-m2', 'tipo-de-estufa-electrica', 'piso-101'], 1362: ['cuarto-de-servicio', 'estudio-o-biblioteca', 'ascensor', 'hall-de-alcobas', 'zona-de-lavanderia', 'bano-auxiliar', 'banos-de-servicio', 'piso-2', 'terraza-balcon-balcon', 'parqueadero-visitantes', 'con-terraza'], 1363: ['citofonos', 'estudio-o-biblioteca', 'ascensor', 'acceso-para-discapacitados', 'circuito-cerrado-de-tv', 'piscina', 'vista-panoramica', 'conjunto-cerrado', 'vigilancia-24hrs', 'hall-de-alcobas', 'zona-de-lavanderia', 'instalacion-de-gas-natural', 'tipo-de-comedor-sala-comedor', 'gimnasio', 'salon-comunal', 'zona-para-ninos', 'zonas-verdes', 'zona-de-bbq', 'apto-para-ninos', 'se-permite-fumar', 'tipo-acabado-de-piso-ceramica', 'tipo-de-piso-en-alcobas-ceramica', 'tipo-de-cocina-abierta', 'numero-de-ascensores-1', 'tipo-de-estufa-gas', 'deposito-0', 'piso-9', 'closets-2', 'tipo-de-parqueadero-comunal'], 1364: ['comedor-auxiliar', 'parqueadero-cubierto', 'circuito-cerrado-de-tv', 'piscina', 'vista-panoramica', 'conjunto-cerrado', 'terraza-balcon-terraza', 'hall-de-alcobas', 'puerta-seguridad', 'zona-de-lavanderia', 'instalacion-de-gas-natural', 'closets-4', 'zonas-verdes', 'jardin', 'calentador-no-tiene', 'tipo-de-comedor-comedor-independiente', 'zona-de-bbq', 'aire-acondicionado', 'vigilancia-12hrs', 'tipo-de-casa-condominio', 'equipado-amoblado', 'tipo-de-cocina-abierta', 'tipo-de-cortinas-persianas', 'ancho-9-m', 'area-lote-271-m2', 'area-terraza-balcon-78-m2', 'fondo-30-m'], 1365: ['piso-1'], 1366: ['citofonos', 'estudio-o-biblioteca', 'ascensor', 'piscina', 'terraza-balcon-terraza', 'vigilancia-24hrs', 'sauna-turco', 'gimnasio', 'zona-para-ninos', 'bano-auxiliar', 'cocina-integral', 'con-terraza', 'apto-para-ninos', 'aire-acondicionado', 'tipo-acabado-de-piso-ceramica', 'tipo-de-piso-en-alcobas-ceramica', 'tipo-de-piso-en-comedor-ceramica', 'tipo-de-piso-en-estudio-ceramica', 'equipado-amoblado', 'closets-1', 'numero-de-ascensores-1', 'cocina-tipo-americano', 'tipo-de-cocina-lineal', 'instalacion-de-gas-ninguno', 'area-terraza-balcon-1-0-m2', 'cancha-s-de-tennis'], 1367: ['citofonos', 'cuarto-de-servicio', 'estudio-o-biblioteca', 'ascensor', 'piscina', 'hall-de-alcobas', 'gimnasio', 'salon-comunal', 'zonas-verdes', 'bano-auxiliar', 'cocina-integral', 'banos-de-servicio', 'terraza-balcon-balcon', 'vigilancia', 'parqueadero-visitantes', 'con-terraza', 'porteria', 'deposito-1', 'cocina-tipo-americano', 'piso-4', 'cancha-s-de-futbol'], 1368: ['cuarto-de-servicio', 'estudio-o-biblioteca', 'jardin', 'terraza-balcon-balcon', 'tipo-de-cocina-lineal', 'instalacion-de-gas-ninguno', 'tipo-acabado-de-piso-otro', 'tipo-de-piso-en-alcobas-otro', 'vigilancia-0', 'tipo-de-piso-en-comedor-otro', 'tipo-de-piso-en-estudio-otro', 'tipo-de-piso-en-sala-otro'], 1369: ['parqueadero-cubierto', 'zona-de-lavanderia', 'bano-auxiliar', 'cocina-integral', 'banos-de-servicio', 'piso-2', 'cocina-tipo-americano'], 1370: ['citofonos', 'cuarto-de-servicio', 'estudio-o-biblioteca', 'parqueadero-cubierto', 'ascensor', 'piscina', 'conjunto-cerrado', 'vigilancia-24hrs', 'zona-de-lavanderia', 'instalacion-de-gas-natural', 'tipo-de-comedor-sala-comedor', 'salon-comunal', 'zona-para-ninos', 'zonas-verdes', 'tipo-de-parqueadero-propio', 'terraza-balcon-balcon', 'apto-para-ninos', 'deposito-1', 'numero-de-ascensores-1', 'tipo-de-estufa-gas', 'calentador-gas', 'tipo-de-cortinas-ninguna', 'closets-3', 'tipo-de-cocina-lineal', 'piso-3', 'area-terraza-balcon-3-m2'], 1371: ['citofonos', 'comedor-auxiliar', 'cuarto-de-servicio', 'parqueadero-cubierto', 'acceso-para-discapacitados', 'piscina', 'conjunto-cerrado', 'terraza-balcon-terraza', 'vigilancia-24hrs', 'hall-de-alcobas', 'zona-de-lavanderia', 'instalacion-de-gas-natural', 'zonas-verdes', 'jardin', 'apto-para-ninos', 'aire-acondicionado', 'se-permite-fumar', 'calentador-gas', 'numero-de-ascensores-0', 'closets-3', 'cuarto-para-escoltas', 'numero-de-lineas-telefonicas-0', 'area-terraza-balcon-10-m2', 'tipo-de-cortinas-pesadas', 'fondo-10-m', 'ancho-10-m', 'area-lote-100-m2'], 1372: ['ascensor', 'zona-de-lavanderia', 'zonas-verdes', 'cocina-integral', 'terraza-balcon-balcon', 'piso-5', 'cancha-s-de-futbol'], 1373: ['piscina', 'conjunto-cerrado', 'zona-de-lavanderia', 'gimnasio', 'salon-comunal', 'aire-acondicionado', 'piso-13', 'equipado-amoblado'], 1374: ['zona-de-lavanderia', 'bano-auxiliar', 'banos-de-servicio', 'terraza-balcon-balcon', 'area-lote-171-m2'], 1375: ['citofonos', 'circuito-cerrado-de-tv', 'jacuzzi', 'zona-de-lavanderia', 'bano-auxiliar', 'cocina-integral', 'banos-de-servicio', 'jardin', 'piso-2', 'terraza-balcon-balcon', 'aire-acondicionado', 'tipo-acabado-de-piso-ceramica', 'area-lote-230-m2'], 1376: ['comedor-auxiliar', 'cuarto-de-servicio', 'zona-de-lavanderia', 'zonas-verdes', 'bano-auxiliar', 'cocina-integral', 'banos-de-servicio', 'piso-2', 'parqueadero-visitantes', 'aire-acondicionado', 'tipo-acabado-de-piso-ceramica', 'deposito-1', 'area-lote-312-m2'], 1377: ['citofonos', 'estudio-o-biblioteca', 'parqueadero-cubierto', 'acceso-para-discapacitados', 'circuito-cerrado-de-tv', 'piscina', 'conjunto-cerrado', 'vigilancia-24hrs', 'zona-de-lavanderia', 'instalacion-de-gas-natural', 'closets-4', 'tipo-de-comedor-sala-comedor', 'zona-para-ninos', 'zonas-verdes', 'jardin', 'calentador-no-tiene', 'terraza-balcon-balcon', 'apto-para-ninos', 'aire-acondicionado', 'se-permite-fumar', 'tipo-de-casa-condominio', 'tipo-de-cocina-abierta', 'deposito-0', 'numero-de-ascensores-0', 'sendero-peatonal', 'tipo-de-cortinas-ninguna', 'area-terraza-balcon-2-m2', 'numero-de-lineas-telefonicas-0', 'area-lote-80-m2'], 1378: ['cuarto-de-servicio', 'estudio-o-biblioteca', 'vista-panoramica', 'zona-de-lavanderia', 'zona-para-ninos', 'zonas-verdes', 'bano-auxiliar', 'cocina-integral', 'banos-de-servicio', 'terraza-balcon-balcon', 'vigilancia', 'zona-de-bbq', 'tipo-acabado-de-piso-ceramica', 'deposito-1', 'piso-3', 'area-lote-200-m2'], 1379: ['citofonos', 'comedor-auxiliar', 'estudio-o-biblioteca', 'parqueadero-cubierto', 'piscina', 'conjunto-cerrado', 'terraza-balcon-terraza', 'vigilancia-24hrs', 'hall-de-alcobas', 'jacuzzi', 'sauna-turco', 'zona-de-lavanderia', 'instalacion-de-gas-natural', 'tipo-de-comedor-sala-comedor', 'cancha-s-de-squash', 'aire-acondicionado', 'alarma', 'numero-de-ascensores-0', 'piso-5', 'tipo-de-parqueadero-independiente', 'cancha-s-de-futbol', 'tipo-acabado-de-piso-porcelanato', 'tipo-de-piso-en-alcobas-porcelanato', 'cancha-s-de-basket', 'cancha-s-de-tennis', 'area-terraza-balcon'], 1380: ['piso-8'], 1381: ['citofonos', 'ascensor', 'circuito-cerrado-de-tv', 'piscina', 'vista-panoramica', 'jacuzzi', 'sauna-turco', 'zona-de-lavanderia', 'bano-auxiliar', 'cocina-integral', 'banos-de-servicio', 'terraza-balcon-balcon', 'vigilancia', 'parqueadero-visitantes', 'con-terraza', 'porteria', 'aire-acondicionado', 'piso-7', 'equipado-amoblado'], 1382: ['cuarto-de-servicio', 'vigilancia-24hrs', 'banos-de-servicio', 'calentador-no-tiene', 'tipo-de-comedor-comedor-independiente', 'terraza-balcon-balcon', 'vigilancia'], 1383: ['piso-7'], 1384: ['citofonos', 'parqueadero-cubierto', 'ascensor', 'piscina', 'vista-panoramica', 'tipo-de-comedor-sala-comedor', 'gimnasio', 'salon-comunal', 'terraza-balcon-balcon', 'aire-acondicionado', 'closets-1', 'numero-de-ascensores-1', 'vista-exterior', 'tipo-de-cocina-lineal', 'instalacion-de-gas-ninguno', 'tipo-acabado-de-piso-otro', 'tipo-de-piso-en-alcobas-otro', 'vigilancia-0', 'tipo-de-piso-en-comedor-otro', 'tipo-de-piso-en-estudio-otro', 'tipo-de-piso-en-sala-otro'], 1385: ['terraza-balcon-terraza', 'tipo-de-comedor-sala-comedor', 'patio', 'tipo-acabado-de-piso-ceramica', 'tipo-de-piso-en-alcobas-ceramica', 'tipo-de-piso-en-comedor-ceramica', 'tipo-de-piso-en-estudio-ceramica', 'tipo-de-piso-en-sala-ceramica', 'tipo-de-cocina-lineal', 'instalacion-de-gas-ninguno', 'vigilancia-0', 'area-terraza-balcon-1-0-m2'], 1386: ['citofonos', 'cuarto-de-servicio', 'ascensor', 'circuito-cerrado-de-tv', 'conjunto-cerrado', 'hall-de-alcobas', 'instalacion-de-gas-natural', 'tipo-de-comedor-sala-comedor', 'bano-auxiliar', 'banos-de-servicio', 'terraza-balcon-balcon', 'parqueadero-visitantes', 'apto-para-ninos', 'vigilancia-12hrs', 'closets-1', 'numero-de-ascensores-1', 'vista-exterior', 'tipo-de-cocina-lineal', 'tipo-acabado-de-piso-otro', 'tipo-de-piso-en-alcobas-otro', 'tipo-de-piso-en-comedor-otro', 'tipo-de-piso-en-estudio-otro', 'tipo-de-piso-en-sala-otro'], 1387: ['citofonos', 'estudio-o-biblioteca', 'ascensor', 'circuito-cerrado-de-tv', 'piscina', 'conjunto-cerrado', 'hall-de-alcobas', 'zona-de-lavanderia', 'gimnasio', 'salon-comunal', 'zona-para-ninos', 'zonas-verdes', 'bano-auxiliar', 'cocina-integral', 'banos-de-servicio', 'terraza-balcon-balcon', 'vigilancia', 'parqueadero-visitantes', 'porteria', 'aire-acondicionado', 'tipo-acabado-de-piso-ceramica', 'piso-7', 'equipado-amoblado', 'deposito-1', 'calefaccion', 'cancha-s-de-futbol', 'cancha-s-de-basket'], 1388: ['cuarto-de-servicio', 'estudio-o-biblioteca', 'circuito-cerrado-de-tv', 'hall-de-alcobas', 'zona-de-lavanderia', 'zonas-verdes', 'bano-auxiliar', 'cocina-integral', 'banos-de-servicio', 'piso-2', 'vigilancia', 'parqueadero-visitantes', 'tipo-acabado-de-piso-ceramica', 'deposito-1', 'area-lote-165-m2'], 1389: ['instalacion-de-gas-natural', 'tipo-de-comedor-sala-comedor', 'piso-en-baldosa', 'piso-en-porcelanato', 'tipo-acabado-de-piso-baldosa', 'tipo-de-piso-en-alcobas-baldosa', 'tipo-de-piso-en-comedor-baldosa', 'tipo-de-piso-en-estudio-baldosa', 'tipo-de-piso-en-sala-baldosa', 'tipo-de-cocina-lineal', 'vigilancia-0'], 1390: ['cuarto-de-servicio', 'estudio-o-biblioteca', 'ascensor', 'acceso-para-discapacitados', 'piscina', 'conjunto-cerrado', 'vigilancia-24hrs', 'hall-de-alcobas', 'instalacion-de-gas-natural', 'tipo-de-comedor-sala-comedor', 'zona-para-ninos', 'zonas-verdes', 'bano-auxiliar', 'cocina-integral', 'banos-de-servicio', 'parqueadero-visitantes', 'apto-para-ninos', 'tipo-acabado-de-piso-ceramica', 'tipo-de-piso-en-alcobas-ceramica', 'tipo-de-piso-en-comedor-ceramica', 'tipo-de-piso-en-estudio-ceramica', 'tipo-de-piso-en-sala-ceramica', 'closets-1', 'numero-de-ascensores-1', 'tipo-de-cocina-lineal', 'tipo-de-parqueadero-independiente', 'cancha-s-de-futbol', 'cancha-s-de-basket'], 1391: ['cuarto-de-servicio', 'estudio-o-biblioteca', 'terraza-balcon-terraza', 'tipo-de-comedor-sala-comedor', 'bano-auxiliar', 'tipo-de-cocina-lineal', 'tipo-de-parqueadero-independiente', 'cancha-s-de-futbol', 'instalacion-de-gas-ninguno', 'tipo-acabado-de-piso-otro', 'tipo-de-piso-en-alcobas-otro', 'vigilancia-0', 'tipo-de-piso-en-comedor-otro', 'tipo-de-piso-en-estudio-otro', 'tipo-de-piso-en-sala-otro', 'area-terraza-balcon-1-0-m2', 'cancha-s-de-basket'], 1392: ['zona-de-lavanderia', 'piso-1', 'area-lote-168-m2'], 1393: ['citofonos', 'ascensor', 'vista-panoramica', 'hall-de-alcobas', 'zona-de-lavanderia', 'salon-comunal', 'bano-auxiliar', 'cocina-integral', 'banos-de-servicio', 'terraza-balcon-balcon', 'vigilancia', 'con-terraza', 'aire-acondicionado', 'tipo-acabado-de-piso-ceramica', 'piso-4'], 1394: ['cuarto-de-servicio', 'estudio-o-biblioteca', 'parqueadero-cubierto', 'circuito-cerrado-de-tv', 'piscina', 'vigilancia-24hrs', 'hall-de-alcobas', 'jacuzzi', 'tipo-de-comedor-sala-comedor', 'zonas-verdes', 'bano-auxiliar', 'banos-de-servicio', 'patio', 'zona-de-bbq', 'aire-acondicionado', 'closets-1', 'calentador-gas', 'tipo-de-cocina-lineal', 'tipo-de-parqueadero-independiente', 'instalacion-de-gas-ninguno', 'tipo-acabado-de-piso-porcelanato', 'tipo-de-piso-en-alcobas-porcelanato'], 1395: ['citofonos', 'ascensor', 'circuito-cerrado-de-tv', 'piscina', 'conjunto-cerrado', 'gimnasio', 'bano-auxiliar', 'cocina-integral', 'banos-de-servicio', 'terraza-balcon-balcon', 'vigilancia', 'porteria', 'aire-acondicionado', 'piso-16'], 1396: ['citofonos', 'comedor-auxiliar', 'cuarto-de-servicio', 'estudio-o-biblioteca', 'parqueadero-cubierto', 'ascensor', 'acceso-para-discapacitados', 'circuito-cerrado-de-tv', 'piscina', 'conjunto-cerrado', 'vigilancia-24hrs', 'hall-de-alcobas', 'puerta-seguridad', 'zona-de-lavanderia', 'closets-4', 'tipo-de-cocina-en-u', 'salon-comunal', 'piso-2', 'tipo-de-comedor-comedor-independiente', 'terraza-balcon-balcon', 'zona-de-bbq', 'apto-para-ninos', 'deposito-1', 'numero-de-ascensores-2', 'instalacion-de-gas-ninguno', 'calentador-electrico', 'area-terraza-balcon-10-m2'], 1397: ['ascensor', 'circuito-cerrado-de-tv', 'piscina', 'vista-panoramica', 'conjunto-cerrado', 'jacuzzi', 'zona-de-lavanderia', 'gimnasio', 'salon-comunal', 'zona-para-ninos', 'zonas-verdes', 'bano-auxiliar', 'cocina-integral', 'banos-de-servicio', 'terraza-balcon-balcon', 'vigilancia', 'parqueadero-visitantes', 'con-terraza', 'porteria', 'aire-acondicionado', 'tipo-acabado-de-piso-ceramica', 'alarma', 'equipado-amoblado', 'deposito-1', 'calefaccion', 'cocina-tipo-americano', 'piso-10'], 1398: ['citofonos', 'cuarto-de-servicio', 'estudio-o-biblioteca', 'ascensor', 'acceso-para-discapacitados', 'circuito-cerrado-de-tv', 'piscina', 'vista-panoramica', 'conjunto-cerrado', 'terraza-balcon-terraza', 'vigilancia-24hrs', 'hall-de-alcobas', 'jacuzzi', 'zona-de-lavanderia', 'instalacion-de-gas-natural', 'tipo-de-comedor-sala-comedor', 'gimnasio', 'zona-para-ninos', 'zonas-verdes', 'bano-auxiliar', 'banos-de-servicio', 'deposito-o-cuarto-util', 'parqueadero-visitantes', 'con-terraza', 'aire-acondicionado', 'closets-1', 'numero-de-ascensores-1', 'calefaccion', 'cocina-tipo-americano', 'tipo-de-cocina-lineal', 'tipo-de-parqueadero-independiente', 'cancha-s-de-futbol', 'area-terraza-balcon-1-0-m2', 'tipo-acabado-de-piso-porcelanato'], 1399: ['ascensor', 'vista-panoramica', 'conjunto-cerrado', 'hall-de-alcobas', 'zona-de-lavanderia', 'zona-para-ninos', 'zonas-verdes', 'bano-auxiliar', 'cocina-integral', 'banos-de-servicio', 'terraza-balcon-balcon', 'vigilancia', 'parqueadero-visitantes', 'con-terraza', 'porteria', 'piso-11'], 1400: ['comedor-auxiliar', 'terraza-balcon-terraza', 'tipo-de-comedor-sala-comedor', 'patio', 'apto-para-ninos', 'tipo-acabado-de-piso-ceramica', 'tipo-de-piso-en-alcobas-ceramica', 'tipo-de-piso-en-comedor-ceramica', 'tipo-de-piso-en-estudio-ceramica', 'tipo-de-piso-en-sala-ceramica', 'closets-1', 'sendero-peatonal', 'tipo-de-cocina-lineal', 'instalacion-de-gas-ninguno', 'vigilancia-0', 'area-terraza-balcon-1-0-m2'], 1401: ['citofonos', 'cuarto-de-servicio', 'estudio-o-biblioteca', 'parqueadero-cubierto', 'acceso-para-discapacitados', 'circuito-cerrado-de-tv', 'piscina', 'vista-panoramica', 'conjunto-cerrado', 'vigilancia-24hrs', 'sauna-turco', 'zona-de-lavanderia', 'tipo-de-comedor-sala-comedor', 'gimnasio', 'salon-comunal', 'zona-para-ninos', 'tipo-de-parqueadero-propio', 'terraza-balcon-balcon', 'apto-para-ninos', 'tipo-de-cocina-abierta', 'deposito-1', 'vista-exterior', 'piso-0', 'area-terraza-balcon-12-m2'], 1402: ['citofonos', 'circuito-cerrado-de-tv', 'piscina', 'conjunto-cerrado', 'instalacion-de-gas-natural', 'tipo-de-comedor-sala-comedor', 'salon-comunal', 'zona-para-ninos', 'zonas-verdes', 'tipo-acabado-de-piso-ceramica', 'tipo-de-piso-en-alcobas-ceramica', 'tipo-de-piso-en-comedor-ceramica', 'tipo-de-piso-en-estudio-ceramica', 'tipo-de-piso-en-sala-ceramica', 'cocina-tipo-americano', 'tipo-de-cocina-lineal', 'vigilancia-0', 'vista-interior'], 1403: ['citofonos', 'estudio-o-biblioteca', 'parqueadero-cubierto', 'circuito-cerrado-de-tv', 'piscina', 'conjunto-cerrado', 'vigilancia-24hrs', 'instalacion-de-gas-natural', 'closets-4', 'tipo-de-comedor-sala-comedor', 'salon-comunal', 'zona-para-ninos', 'zonas-verdes', 'tipo-de-parqueadero-propio', 'calentador-no-tiene', 'terraza-balcon-balcon', 'tipo-de-estufa-gas', 'deposito-0', 'numero-de-ascensores-0', 'vista-exterior', 'tipo-de-cocina-lineal', 'cancha-s-de-futbol', 'cancha-s-de-basket', 'area-terraza-balcon-10-m2', 'piso-301'], 1404: ['instalacion-de-gas-natural', 'tipo-de-comedor-sala-comedor', 'terraza-balcon-balcon', 'closets-1', 'calentador-gas', 'tipo-de-cortinas-persianas', 'tipo-de-cocina-lineal', 'tipo-acabado-de-piso-otro', 'tipo-de-piso-en-alcobas-otro', 'vigilancia-0', 'tipo-de-piso-en-comedor-otro', 'tipo-de-piso-en-estudio-otro', 'tipo-de-piso-en-sala-otro'], 1405: ['citofonos', 'cuarto-de-servicio', 'estudio-o-biblioteca', 'parqueadero-cubierto', 'ascensor', 'acceso-para-discapacitados', 'circuito-cerrado-de-tv', 'piscina', 'conjunto-cerrado', 'vigilancia-24hrs', 'hall-de-alcobas', 'jacuzzi', 'sauna-turco', 'zona-de-lavanderia', 'instalacion-de-gas-natural', 'gimnasio', 'salon-comunal', 'zona-para-ninos', 'zonas-verdes', 'calentador-no-tiene', 'tipo-de-comedor-comedor-independiente', 'terraza-balcon-balcon', 'zona-de-bbq', 'apto-para-ninos', 'aire-acondicionado', 'numero-de-ascensores-2', 'closets-3', 'tipo-de-cocina-en-l', 'piso-3', 'area-terraza-balcon-2-m2'], 1407: ['citofonos', 'ascensor', 'circuito-cerrado-de-tv', 'piscina', 'vista-panoramica', 'conjunto-cerrado', 'hall-de-alcobas', 'jacuzzi', 'zona-de-lavanderia', 'gimnasio', 'salon-comunal', 'zona-para-ninos', 'zonas-verdes', 'bano-auxiliar', 'cocina-integral', 'banos-de-servicio', 'terraza-balcon-balcon', 'vigilancia', 'parqueadero-visitantes', 'con-terraza', 'porteria', 'zona-de-bbq', 'aire-acondicionado', 'tipo-acabado-de-piso-ceramica', 'cocina-tipo-americano'], 1408: ['citofonos', 'circuito-cerrado-de-tv', 'piscina', 'conjunto-cerrado', 'terraza-balcon-terraza', 'vigilancia-24hrs', 'sauna-turco', 'instalacion-de-gas-natural', 'tipo-de-comedor-sala-comedor', 'gimnasio', 'zona-para-ninos', 'zonas-verdes', 'bano-auxiliar', 'jardin', 'parqueadero-visitantes', 'zona-de-bbq', 'apto-para-ninos', 'closets-1', 'sendero-peatonal', 'tipo-de-cocina-lineal', 'area-terraza-balcon-1-0-m2', 'tipo-acabado-de-piso-porcelanato', 'tipo-de-piso-en-alcobas-porcelanato', 'tipo-de-piso-en-comedor-porcelanato', 'tipo-de-piso-en-estudio-porcelanato', 'tipo-de-piso-en-sala-porcelanato', 'vista-interior'], 1409: ['circuito-cerrado-de-tv', 'conjunto-cerrado', 'zona-de-lavanderia', 'zonas-verdes', 'bano-auxiliar', 'banos-de-servicio', 'piso-2', 'area-lote-150-m2'], 1410: ['citofonos', 'ascensor', 'circuito-cerrado-de-tv', 'vista-panoramica', 'conjunto-cerrado', 'zona-de-lavanderia', 'zonas-verdes', 'bano-auxiliar', 'cocina-integral', 'banos-de-servicio', 'terraza-balcon-balcon', 'vigilancia', 'tipo-acabado-de-piso-ceramica', 'piso-13', 'calefaccion'], 1411: ['vigilancia-24hrs', 'calentador-no-tiene', 'vigilancia'], 1412: ['piscina', 'conjunto-cerrado', 'salon-comunal', 'zona-para-ninos', 'zonas-verdes', 'cocina-integral', 'vigilancia', 'parqueadero-visitantes', 'porteria', 'tipo-acabado-de-piso-ceramica', 'piso-4'], 1413: ['citofonos', 'cuarto-de-servicio', 'ascensor', 'piscina', 'jacuzzi', 'gimnasio', 'zona-para-ninos', 'bano-auxiliar', 'cocina-integral', 'banos-de-servicio', 'terraza-balcon-balcon', 'vigilancia', 'porteria', 'cancha-s-de-futbol', 'piso-10'], 1414: ['citofonos', 'ascensor', 'circuito-cerrado-de-tv', 'piscina', 'vista-panoramica', 'conjunto-cerrado', 'hall-de-alcobas', 'zona-de-lavanderia', 'gimnasio', 'salon-comunal', 'zonas-verdes', 'bano-auxiliar', 'cocina-integral', 'banos-de-servicio', 'terraza-balcon-balcon', 'vigilancia', 'parqueadero-visitantes', 'con-terraza', 'porteria', 'aire-acondicionado', 'cocina-tipo-americano', 'piso-12'], 1415: ['citofonos', 'parqueadero-cubierto', 'acceso-para-discapacitados', 'circuito-cerrado-de-tv', 'conjunto-cerrado', 'vigilancia-24hrs', 'hall-de-alcobas', 'zona-de-lavanderia', 'instalacion-de-gas-natural', 'tipo-de-comedor-sala-comedor', 'zona-para-ninos', 'zonas-verdes', 'piso-2', 'tipo-de-parqueadero-propio', 'tipo-acabado-de-piso-baldosa', 'tipo-de-piso-en-alcobas-baldosa', 'zona-de-bbq', 'apto-para-ninos', 'se-permite-fumar', 'tipo-de-estufa-gas', 'deposito-0', 'numero-de-ascensores-0', 'closets-3', 'tipo-de-cocina-paralela'], 1416: ['comedor-auxiliar', 'hall-de-alcobas', 'zona-de-lavanderia', 'bano-auxiliar', 'banos-de-servicio', 'piso-1', 'area-lote-285-m2']}\n"
     ]
    }
   ],
   "source": [
    "inmuebles_con_caracteristicas = {}\n",
    "for key, group in itertools.groupby(sorted(inmueble_caracteristicas, key=lambda x: x['id_inmueble']), lambda x: x['id_inmueble']):\n",
    "    inmuebles_con_caracteristicas[key] = [item['nombre_caracteristica'] for item in group]\n",
    "print(inmuebles_con_caracteristicas)\n"
   ]
  },
  {
   "cell_type": "code",
   "execution_count": 54,
   "metadata": {},
   "outputs": [
    {
     "name": "stdout",
     "output_type": "stream",
     "text": [
      "Coincidencias para diego3026:\n",
      "Inmueble 1174: ['piscina']\n",
      "Inmueble 1179: ['piscina']\n",
      "Inmueble 1181: ['piscina']\n",
      "Inmueble 1182: ['piscina']\n",
      "Inmueble 1185: ['piscina']\n",
      "Inmueble 1188: ['piscina']\n",
      "Inmueble 1189: ['piscina']\n",
      "Inmueble 1193: ['piscina']\n",
      "Inmueble 1194: ['piscina']\n",
      "Inmueble 1197: ['piscina']\n",
      "Inmueble 1202: ['piscina']\n",
      "Inmueble 1203: ['piscina']\n",
      "Inmueble 1204: ['piscina']\n",
      "Inmueble 1210: ['piscina']\n",
      "Inmueble 1212: ['piscina']\n",
      "Inmueble 1215: ['piscina']\n",
      "Inmueble 1217: ['piscina']\n",
      "Inmueble 1218: ['piscina']\n",
      "Inmueble 1222: ['piscina']\n",
      "Inmueble 1226: ['piscina']\n",
      "Inmueble 1228: ['piscina']\n",
      "Inmueble 1231: ['piscina']\n",
      "Inmueble 1232: ['piscina']\n",
      "Inmueble 1235: ['piscina']\n",
      "Inmueble 1237: ['piscina']\n",
      "Inmueble 1239: ['piscina']\n",
      "Inmueble 1240: ['piscina']\n",
      "Inmueble 1246: ['piscina']\n",
      "Inmueble 1248: ['piscina']\n",
      "Inmueble 1249: ['piscina']\n",
      "Inmueble 1251: ['piscina']\n",
      "Inmueble 1253: ['piscina']\n",
      "Inmueble 1255: ['piscina']\n",
      "Inmueble 1257: ['piscina']\n",
      "Inmueble 1262: ['piscina']\n",
      "Inmueble 1263: ['piscina']\n",
      "Inmueble 1269: ['piscina']\n",
      "Inmueble 1271: ['piscina']\n",
      "Inmueble 1273: ['piscina']\n",
      "Inmueble 1278: ['piscina']\n",
      "Inmueble 1279: ['piscina']\n",
      "Inmueble 1281: ['piscina']\n",
      "Inmueble 1283: ['piscina']\n",
      "Inmueble 1284: ['piscina']\n",
      "Inmueble 1287: ['piscina']\n",
      "Inmueble 1290: ['piscina']\n",
      "Inmueble 1291: ['piscina']\n",
      "Inmueble 1296: ['piscina']\n",
      "Inmueble 1298: ['piscina']\n",
      "Inmueble 1300: ['piscina']\n",
      "Inmueble 1301: ['piscina']\n",
      "Inmueble 1303: ['piscina']\n",
      "Inmueble 1307: ['piscina']\n",
      "Inmueble 1308: ['piscina']\n",
      "Inmueble 1309: ['piscina']\n",
      "Inmueble 1312: ['piscina']\n",
      "Inmueble 1313: ['piscina']\n",
      "Inmueble 1314: ['piscina']\n",
      "Inmueble 1315: ['piscina']\n",
      "Inmueble 1317: ['piscina']\n",
      "Inmueble 1318: ['piscina']\n",
      "Inmueble 1319: ['piscina']\n",
      "Inmueble 1330: ['piscina']\n",
      "Inmueble 1331: ['piscina']\n",
      "Inmueble 1332: ['piscina']\n",
      "Inmueble 1336: ['piscina']\n",
      "Inmueble 1337: ['piscina']\n",
      "Inmueble 1343: ['piscina']\n",
      "Inmueble 1344: ['piscina']\n",
      "Inmueble 1345: ['piscina']\n",
      "Inmueble 1346: ['piscina']\n",
      "Inmueble 1347: ['piscina']\n",
      "Inmueble 1349: ['piscina']\n",
      "Inmueble 1350: ['piscina']\n",
      "Inmueble 1351: ['piscina']\n",
      "Inmueble 1352: ['piscina']\n",
      "Inmueble 1354: ['piscina']\n",
      "Inmueble 1356: ['piscina']\n",
      "Inmueble 1357: ['piscina']\n",
      "Inmueble 1358: ['piscina']\n",
      "Inmueble 1360: ['piscina']\n",
      "Inmueble 1363: ['piscina']\n",
      "Inmueble 1364: ['piscina']\n",
      "Inmueble 1366: ['piscina']\n",
      "Inmueble 1367: ['piscina']\n",
      "Inmueble 1370: ['piscina']\n",
      "Inmueble 1371: ['piscina']\n",
      "Inmueble 1373: ['piscina']\n",
      "Inmueble 1377: ['piscina']\n",
      "Inmueble 1379: ['piscina']\n",
      "Inmueble 1381: ['piscina']\n",
      "Inmueble 1384: ['piscina']\n",
      "Inmueble 1387: ['piscina']\n",
      "Inmueble 1390: ['piscina']\n",
      "Inmueble 1394: ['piscina']\n",
      "Inmueble 1395: ['piscina']\n",
      "Inmueble 1396: ['piscina']\n",
      "Inmueble 1397: ['piscina']\n",
      "Inmueble 1398: ['piscina']\n",
      "Inmueble 1401: ['piscina']\n",
      "Inmueble 1402: ['piscina']\n",
      "Inmueble 1403: ['piscina']\n",
      "Inmueble 1405: ['piscina']\n",
      "Inmueble 1407: ['piscina']\n",
      "Inmueble 1408: ['piscina']\n",
      "Inmueble 1412: ['piscina']\n",
      "Inmueble 1413: ['piscina']\n",
      "Inmueble 1414: ['piscina']\n",
      "\n",
      "Coincidencias para diego1234:\n",
      "Inmueble 1179: ['gimnasio']\n",
      "Inmueble 1182: ['gimnasio']\n",
      "Inmueble 1185: ['gimnasio']\n",
      "Inmueble 1189: ['gimnasio']\n",
      "Inmueble 1197: ['gimnasio']\n",
      "Inmueble 1202: ['gimnasio']\n",
      "Inmueble 1203: ['gimnasio']\n",
      "Inmueble 1204: ['gimnasio']\n",
      "Inmueble 1208: ['gimnasio']\n",
      "Inmueble 1210: ['gimnasio']\n",
      "Inmueble 1215: ['gimnasio']\n",
      "Inmueble 1217: ['gimnasio']\n",
      "Inmueble 1218: ['gimnasio']\n",
      "Inmueble 1222: ['gimnasio']\n",
      "Inmueble 1226: ['gimnasio']\n",
      "Inmueble 1228: ['gimnasio']\n",
      "Inmueble 1231: ['gimnasio']\n",
      "Inmueble 1232: ['gimnasio']\n",
      "Inmueble 1237: ['gimnasio']\n",
      "Inmueble 1240: ['gimnasio']\n",
      "Inmueble 1248: ['gimnasio']\n",
      "Inmueble 1249: ['gimnasio']\n",
      "Inmueble 1251: ['gimnasio']\n",
      "Inmueble 1253: ['gimnasio']\n",
      "Inmueble 1255: ['gimnasio']\n",
      "Inmueble 1257: ['gimnasio']\n",
      "Inmueble 1262: ['gimnasio']\n",
      "Inmueble 1263: ['gimnasio']\n",
      "Inmueble 1273: ['gimnasio']\n",
      "Inmueble 1276: ['gimnasio']\n",
      "Inmueble 1278: ['gimnasio']\n",
      "Inmueble 1287: ['gimnasio']\n",
      "Inmueble 1294: ['gimnasio']\n",
      "Inmueble 1296: ['gimnasio']\n",
      "Inmueble 1297: ['gimnasio']\n",
      "Inmueble 1300: ['gimnasio']\n",
      "Inmueble 1304: ['gimnasio']\n",
      "Inmueble 1307: ['gimnasio']\n",
      "Inmueble 1308: ['gimnasio']\n",
      "Inmueble 1309: ['gimnasio']\n",
      "Inmueble 1314: ['gimnasio']\n",
      "Inmueble 1315: ['gimnasio']\n",
      "Inmueble 1319: ['gimnasio']\n",
      "Inmueble 1323: ['gimnasio']\n",
      "Inmueble 1331: ['gimnasio']\n",
      "Inmueble 1336: ['gimnasio']\n",
      "Inmueble 1347: ['gimnasio']\n",
      "Inmueble 1349: ['gimnasio']\n",
      "Inmueble 1350: ['gimnasio']\n",
      "Inmueble 1352: ['gimnasio']\n",
      "Inmueble 1354: ['gimnasio']\n",
      "Inmueble 1356: ['gimnasio']\n",
      "Inmueble 1357: ['gimnasio']\n",
      "Inmueble 1360: ['gimnasio']\n",
      "Inmueble 1363: ['gimnasio']\n",
      "Inmueble 1366: ['gimnasio']\n",
      "Inmueble 1367: ['gimnasio']\n",
      "Inmueble 1373: ['gimnasio']\n",
      "Inmueble 1384: ['gimnasio']\n",
      "Inmueble 1387: ['gimnasio']\n",
      "Inmueble 1395: ['gimnasio']\n",
      "Inmueble 1397: ['gimnasio']\n",
      "Inmueble 1398: ['gimnasio']\n",
      "Inmueble 1401: ['gimnasio']\n",
      "Inmueble 1405: ['gimnasio']\n",
      "Inmueble 1407: ['gimnasio']\n",
      "Inmueble 1408: ['gimnasio']\n",
      "Inmueble 1413: ['gimnasio']\n",
      "Inmueble 1414: ['gimnasio']\n",
      "\n"
     ]
    }
   ],
   "source": [
    "coincidencias_todos_usuarios = {}\n",
    "for usuario, intereses in intereses_por_usuario.items():\n",
    "    coincidencias_usuario = []\n",
    "    for inmueble, caracteristicas in inmuebles_con_caracteristicas.items():\n",
    "        coincidencias_usuario_inmueble = [interes for interes in intereses if interes in caracteristicas]\n",
    "        if coincidencias_usuario_inmueble:\n",
    "            coincidencias_usuario.append((inmueble, coincidencias_usuario_inmueble))\n",
    "    coincidencias_todos_usuarios[usuario] = coincidencias_usuario\n",
    "\n",
    "for usuario, coincidencias in coincidencias_todos_usuarios.items():\n",
    "    print(f\"Coincidencias para {usuario}:\")\n",
    "    for coincidencia in coincidencias:\n",
    "        print(f\"Inmueble {coincidencia[0]}: {coincidencia[1]}\")\n",
    "    print()"
   ]
  },
  {
   "cell_type": "code",
   "execution_count": 55,
   "metadata": {},
   "outputs": [
    {
     "name": "stdout",
     "output_type": "stream",
     "text": [
      "[{'usuario': 'diego3026', 'valorCoincidencia': 2.5}, {'usuario': 'diego1234', 'valorCoincidencia': 2.0}]\n"
     ]
    }
   ],
   "source": [
    "def valoresCoincidenciaPorUsuario(maxPuntaje: int):\n",
    "    valoresPorUsuarios = []\n",
    "    for usuario, intereses in intereses_por_usuario.items():\n",
    "        valorPorUsuario = {\"usuario\": usuario, \"valorCoincidencia\": (maxPuntaje/ len(intereses))}\n",
    "        valoresPorUsuarios.append(valorPorUsuario)\n",
    "    return valoresPorUsuarios   \n",
    "    \n",
    "vCoincidenciasPorUsuario = valoresCoincidenciaPorUsuario(10)    \n",
    "print(vCoincidenciasPorUsuario)"
   ]
  },
  {
   "cell_type": "code",
   "execution_count": 56,
   "metadata": {},
   "outputs": [
    {
     "name": "stdout",
     "output_type": "stream",
     "text": [
      "[{'usuario': 'diego3026', 'puntajePorInmueble': [{'idimueble': 1174, 'puntaje': 2.5}, {'idimueble': 1179, 'puntaje': 2.5}, {'idimueble': 1181, 'puntaje': 2.5}, {'idimueble': 1182, 'puntaje': 2.5}, {'idimueble': 1185, 'puntaje': 2.5}, {'idimueble': 1188, 'puntaje': 2.5}, {'idimueble': 1189, 'puntaje': 2.5}, {'idimueble': 1193, 'puntaje': 2.5}, {'idimueble': 1194, 'puntaje': 2.5}, {'idimueble': 1197, 'puntaje': 2.5}, {'idimueble': 1202, 'puntaje': 2.5}, {'idimueble': 1203, 'puntaje': 2.5}, {'idimueble': 1204, 'puntaje': 2.5}, {'idimueble': 1210, 'puntaje': 2.5}, {'idimueble': 1212, 'puntaje': 2.5}, {'idimueble': 1215, 'puntaje': 2.5}, {'idimueble': 1217, 'puntaje': 2.5}, {'idimueble': 1218, 'puntaje': 2.5}, {'idimueble': 1222, 'puntaje': 2.5}, {'idimueble': 1226, 'puntaje': 2.5}, {'idimueble': 1228, 'puntaje': 2.5}, {'idimueble': 1231, 'puntaje': 2.5}, {'idimueble': 1232, 'puntaje': 2.5}, {'idimueble': 1235, 'puntaje': 2.5}, {'idimueble': 1237, 'puntaje': 2.5}, {'idimueble': 1239, 'puntaje': 2.5}, {'idimueble': 1240, 'puntaje': 2.5}, {'idimueble': 1246, 'puntaje': 2.5}, {'idimueble': 1248, 'puntaje': 2.5}, {'idimueble': 1249, 'puntaje': 2.5}, {'idimueble': 1251, 'puntaje': 2.5}, {'idimueble': 1253, 'puntaje': 2.5}, {'idimueble': 1255, 'puntaje': 2.5}, {'idimueble': 1257, 'puntaje': 2.5}, {'idimueble': 1262, 'puntaje': 2.5}, {'idimueble': 1263, 'puntaje': 2.5}, {'idimueble': 1269, 'puntaje': 2.5}, {'idimueble': 1271, 'puntaje': 2.5}, {'idimueble': 1273, 'puntaje': 2.5}, {'idimueble': 1278, 'puntaje': 2.5}, {'idimueble': 1279, 'puntaje': 2.5}, {'idimueble': 1281, 'puntaje': 2.5}, {'idimueble': 1283, 'puntaje': 2.5}, {'idimueble': 1284, 'puntaje': 2.5}, {'idimueble': 1287, 'puntaje': 2.5}, {'idimueble': 1290, 'puntaje': 2.5}, {'idimueble': 1291, 'puntaje': 2.5}, {'idimueble': 1296, 'puntaje': 2.5}, {'idimueble': 1298, 'puntaje': 2.5}, {'idimueble': 1300, 'puntaje': 2.5}, {'idimueble': 1301, 'puntaje': 2.5}, {'idimueble': 1303, 'puntaje': 2.5}, {'idimueble': 1307, 'puntaje': 2.5}, {'idimueble': 1308, 'puntaje': 2.5}, {'idimueble': 1309, 'puntaje': 2.5}, {'idimueble': 1312, 'puntaje': 2.5}, {'idimueble': 1313, 'puntaje': 2.5}, {'idimueble': 1314, 'puntaje': 2.5}, {'idimueble': 1315, 'puntaje': 2.5}, {'idimueble': 1317, 'puntaje': 2.5}, {'idimueble': 1318, 'puntaje': 2.5}, {'idimueble': 1319, 'puntaje': 2.5}, {'idimueble': 1330, 'puntaje': 2.5}, {'idimueble': 1331, 'puntaje': 2.5}, {'idimueble': 1332, 'puntaje': 2.5}, {'idimueble': 1336, 'puntaje': 2.5}, {'idimueble': 1337, 'puntaje': 2.5}, {'idimueble': 1343, 'puntaje': 2.5}, {'idimueble': 1344, 'puntaje': 2.5}, {'idimueble': 1345, 'puntaje': 2.5}, {'idimueble': 1346, 'puntaje': 2.5}, {'idimueble': 1347, 'puntaje': 2.5}, {'idimueble': 1349, 'puntaje': 2.5}, {'idimueble': 1350, 'puntaje': 2.5}, {'idimueble': 1351, 'puntaje': 2.5}, {'idimueble': 1352, 'puntaje': 2.5}, {'idimueble': 1354, 'puntaje': 2.5}, {'idimueble': 1356, 'puntaje': 2.5}, {'idimueble': 1357, 'puntaje': 2.5}, {'idimueble': 1358, 'puntaje': 2.5}, {'idimueble': 1360, 'puntaje': 2.5}, {'idimueble': 1363, 'puntaje': 2.5}, {'idimueble': 1364, 'puntaje': 2.5}, {'idimueble': 1366, 'puntaje': 2.5}, {'idimueble': 1367, 'puntaje': 2.5}, {'idimueble': 1370, 'puntaje': 2.5}, {'idimueble': 1371, 'puntaje': 2.5}, {'idimueble': 1373, 'puntaje': 2.5}, {'idimueble': 1377, 'puntaje': 2.5}, {'idimueble': 1379, 'puntaje': 2.5}, {'idimueble': 1381, 'puntaje': 2.5}, {'idimueble': 1384, 'puntaje': 2.5}, {'idimueble': 1387, 'puntaje': 2.5}, {'idimueble': 1390, 'puntaje': 2.5}, {'idimueble': 1394, 'puntaje': 2.5}, {'idimueble': 1395, 'puntaje': 2.5}, {'idimueble': 1396, 'puntaje': 2.5}, {'idimueble': 1397, 'puntaje': 2.5}, {'idimueble': 1398, 'puntaje': 2.5}, {'idimueble': 1401, 'puntaje': 2.5}, {'idimueble': 1402, 'puntaje': 2.5}, {'idimueble': 1403, 'puntaje': 2.5}, {'idimueble': 1405, 'puntaje': 2.5}, {'idimueble': 1407, 'puntaje': 2.5}, {'idimueble': 1408, 'puntaje': 2.5}, {'idimueble': 1412, 'puntaje': 2.5}, {'idimueble': 1413, 'puntaje': 2.5}, {'idimueble': 1414, 'puntaje': 2.5}]}, {'usuario': 'diego1234', 'puntajePorInmueble': [{'idimueble': 1179, 'puntaje': 2.0}, {'idimueble': 1182, 'puntaje': 2.0}, {'idimueble': 1185, 'puntaje': 2.0}, {'idimueble': 1189, 'puntaje': 2.0}, {'idimueble': 1197, 'puntaje': 2.0}, {'idimueble': 1202, 'puntaje': 2.0}, {'idimueble': 1203, 'puntaje': 2.0}, {'idimueble': 1204, 'puntaje': 2.0}, {'idimueble': 1208, 'puntaje': 2.0}, {'idimueble': 1210, 'puntaje': 2.0}, {'idimueble': 1215, 'puntaje': 2.0}, {'idimueble': 1217, 'puntaje': 2.0}, {'idimueble': 1218, 'puntaje': 2.0}, {'idimueble': 1222, 'puntaje': 2.0}, {'idimueble': 1226, 'puntaje': 2.0}, {'idimueble': 1228, 'puntaje': 2.0}, {'idimueble': 1231, 'puntaje': 2.0}, {'idimueble': 1232, 'puntaje': 2.0}, {'idimueble': 1237, 'puntaje': 2.0}, {'idimueble': 1240, 'puntaje': 2.0}, {'idimueble': 1248, 'puntaje': 2.0}, {'idimueble': 1249, 'puntaje': 2.0}, {'idimueble': 1251, 'puntaje': 2.0}, {'idimueble': 1253, 'puntaje': 2.0}, {'idimueble': 1255, 'puntaje': 2.0}, {'idimueble': 1257, 'puntaje': 2.0}, {'idimueble': 1262, 'puntaje': 2.0}, {'idimueble': 1263, 'puntaje': 2.0}, {'idimueble': 1273, 'puntaje': 2.0}, {'idimueble': 1276, 'puntaje': 2.0}, {'idimueble': 1278, 'puntaje': 2.0}, {'idimueble': 1287, 'puntaje': 2.0}, {'idimueble': 1294, 'puntaje': 2.0}, {'idimueble': 1296, 'puntaje': 2.0}, {'idimueble': 1297, 'puntaje': 2.0}, {'idimueble': 1300, 'puntaje': 2.0}, {'idimueble': 1304, 'puntaje': 2.0}, {'idimueble': 1307, 'puntaje': 2.0}, {'idimueble': 1308, 'puntaje': 2.0}, {'idimueble': 1309, 'puntaje': 2.0}, {'idimueble': 1314, 'puntaje': 2.0}, {'idimueble': 1315, 'puntaje': 2.0}, {'idimueble': 1319, 'puntaje': 2.0}, {'idimueble': 1323, 'puntaje': 2.0}, {'idimueble': 1331, 'puntaje': 2.0}, {'idimueble': 1336, 'puntaje': 2.0}, {'idimueble': 1347, 'puntaje': 2.0}, {'idimueble': 1349, 'puntaje': 2.0}, {'idimueble': 1350, 'puntaje': 2.0}, {'idimueble': 1352, 'puntaje': 2.0}, {'idimueble': 1354, 'puntaje': 2.0}, {'idimueble': 1356, 'puntaje': 2.0}, {'idimueble': 1357, 'puntaje': 2.0}, {'idimueble': 1360, 'puntaje': 2.0}, {'idimueble': 1363, 'puntaje': 2.0}, {'idimueble': 1366, 'puntaje': 2.0}, {'idimueble': 1367, 'puntaje': 2.0}, {'idimueble': 1373, 'puntaje': 2.0}, {'idimueble': 1384, 'puntaje': 2.0}, {'idimueble': 1387, 'puntaje': 2.0}, {'idimueble': 1395, 'puntaje': 2.0}, {'idimueble': 1397, 'puntaje': 2.0}, {'idimueble': 1398, 'puntaje': 2.0}, {'idimueble': 1401, 'puntaje': 2.0}, {'idimueble': 1405, 'puntaje': 2.0}, {'idimueble': 1407, 'puntaje': 2.0}, {'idimueble': 1408, 'puntaje': 2.0}, {'idimueble': 1413, 'puntaje': 2.0}, {'idimueble': 1414, 'puntaje': 2.0}]}]\n"
     ]
    }
   ],
   "source": [
    "def buscarVCUsuario(nUsuario: str):\n",
    "    usuario = None\n",
    "    for i in range(len(vCoincidenciasPorUsuario)):\n",
    "        usuNombre = vCoincidenciasPorUsuario[i]['usuario']\n",
    "        if usuNombre == nUsuario:\n",
    "            usuario = vCoincidenciasPorUsuario[i]\n",
    "            break\n",
    "    return usuario\n",
    "\n",
    "def puntajesUsuarios():\n",
    "    puntajePorUsuarios = []\n",
    "    for usuario, coincidencias in coincidencias_todos_usuarios.items():\n",
    "        valorCoincidenciaUsuario = buscarVCUsuario(usuario) \n",
    "        puntajesPorInmueble = []\n",
    "        if valorCoincidenciaUsuario is not None:\n",
    "            for coincidencia in coincidencias:\n",
    "                inmuebleP = {\"idimueble\": coincidencia[0], \"puntaje\": (len(coincidencia[1]) * valorCoincidenciaUsuario[\"valorCoincidencia\"])}\n",
    "                puntajesPorInmueble.append(inmuebleP)\n",
    "        puntajesInmueblesUsuario = {\"usuario\": usuario, \"puntajePorInmueble\": puntajesPorInmueble}\n",
    "        puntajePorUsuarios.append(puntajesInmueblesUsuario)\n",
    "    return puntajePorUsuarios\n",
    "\n",
    "puntajesPorUsuarios = puntajesUsuarios()\n",
    "print(puntajesPorUsuarios)"
   ]
  },
  {
   "cell_type": "code",
   "execution_count": 57,
   "metadata": {},
   "outputs": [
    {
     "name": "stdout",
     "output_type": "stream",
     "text": [
      "{'diego3026': {1: 7.2, 2: 7.2, 3: 7.0, 4: 0, 5: 7.2, 7: 0, 8: 6.5, 9: 6.5, 10: 0, 11: 0, 12: 0, 13: 0, 14: 0, 15: 0, 16: 0, 17: 0, 19: 0, 20: 0, 21: 0, 22: 0, 23: 0, 24: 0, 25: 0, 26: 0, 27: 0, 28: 0, 29: 0, 30: 0, 31: 0, 32: 0, 33: 0, 34: 0, 35: 0, 36: 0, 37: 0, 38: 0, 39: 0, 40: 0, 41: 0, 42: 0, 43: 0, 44: 0, 45: 0, 46: 0, 47: 0, 48: 0, 49: 0, 50: 0, 51: 0, 52: 0, 53: 0, 54: 0, 55: 0, 56: 0, 57: 0, 59: 0, 60: 0, 61: 0, 62: 0, 63: 0, 65: 0, 66: 0, 67: 0, 68: 0, 69: 0, 70: 0, 71: 0, 72: 0, 73: 0, 74: 0, 75: 0, 76: 0, 77: 0, 78: 0, 79: 0, 80: 0, 81: 0, 82: 0, 83: 0, 84: 0, 85: 0, 86: 0, 87: 0, 88: 0, 89: 0, 90: 0, 91: 0, 92: 0, 93: 0, 94: 0, 95: 0, 96: 0, 97: 0, 98: 0, 99: 0, 100: 0, 101: 0, 102: 0, 103: 0, 104: 0, 105: 0, 106: 0, 107: 0, 108: 0, 109: 0, 110: 0, 111: 0, 112: 0, 113: 0, 114: 0, 115: 0, 116: 0, 117: 0, 118: 0, 119: 0, 120: 0, 121: 0, 122: 0, 123: 0, 124: 0, 125: 0, 126: 0, 127: 0, 128: 0, 129: 0, 131: 0, 132: 0, 134: 0, 265: 0, 829: 0, 830: 0, 831: 0, 832: 0, 833: 0, 834: 0, 839: 0, 840: 0, 841: 0, 842: 0, 843: 0, 844: 0, 845: 0, 846: 0, 847: 0, 848: 0, 849: 0, 850: 0, 852: 0, 853: 0, 854: 0, 855: 0, 856: 0, 857: 0, 858: 0, 859: 0, 860: 0, 861: 0, 862: 0, 864: 0, 865: 0, 1173: 0, 1174: 0, 1175: 0, 1176: 0, 1177: 0, 1178: 0, 1179: 0, 1180: 0, 1181: 0, 1182: 0, 1183: 0, 1184: 0, 1185: 0, 1186: 0, 1187: 0, 1188: 0, 1189: 0, 1190: 0, 1191: 0, 1192: 0, 1193: 0, 1194: 0, 1195: 0, 1196: 0, 1197: 0, 1198: 0, 1199: 0, 1200: 0, 1201: 0, 1202: 0, 1203: 0, 1204: 0, 1205: 0, 1206: 0, 1207: 0, 1208: 0, 1209: 0, 1210: 0, 1211: 0, 1212: 0, 1213: 0, 1214: 0, 1215: 0, 1216: 0, 1217: 0, 1218: 0, 1219: 0, 1220: 0, 1221: 0, 1222: 0, 1223: 0, 1224: 0, 1225: 0, 1226: 0, 1227: 0, 1228: 0, 1229: 0, 1230: 0, 1231: 0, 1232: 0, 1233: 0, 1234: 0, 1235: 0, 1236: 0, 1237: 0, 1238: 0, 1239: 0, 1240: 0, 1241: 0, 1242: 0, 1243: 0, 1244: 0, 1245: 0, 1246: 0, 1247: 0, 1248: 0, 1249: 0, 1250: 0, 1251: 0, 1252: 0, 1253: 0, 1254: 0, 1255: 0, 1256: 0, 1257: 0, 1258: 0, 1259: 0, 1260: 0, 1261: 0, 1262: 0, 1263: 0, 1264: 0, 1265: 0, 1266: 0, 1267: 0, 1268: 0, 1269: 0, 1270: 0, 1271: 0, 1272: 0, 1273: 0, 1274: 0, 1275: 0, 1276: 0, 1277: 0, 1278: 0, 1279: 0, 1280: 0, 1281: 0, 1282: 0, 1283: 0, 1284: 0, 1285: 0, 1286: 0, 1287: 0, 1288: 0, 1289: 0, 1290: 0, 1291: 0, 1292: 0, 1293: 0, 1294: 0, 1295: 0, 1296: 0, 1297: 0, 1298: 0, 1299: 0, 1300: 0, 1301: 0, 1302: 0, 1303: 0, 1304: 0, 1305: 0, 1306: 0, 1307: 0, 1308: 0, 1309: 0, 1310: 0, 1311: 0, 1312: 0, 1313: 0, 1314: 0, 1315: 0, 1316: 0, 1317: 0, 1318: 0, 1319: 0, 1320: 0, 1321: 0, 1322: 0, 1323: 0, 1324: 0, 1325: 0, 1326: 0, 1327: 0, 1328: 0, 1329: 0, 1330: 0, 1331: 0, 1332: 0, 1333: 0, 1334: 0, 1335: 0, 1336: 0, 1337: 0, 1338: 0, 1339: 0, 1340: 0, 1341: 0, 1342: 0, 1343: 0, 1344: 0, 1345: 0, 1346: 0, 1347: 0, 1348: 0, 1349: 0, 1350: 0, 1351: 0, 1352: 0, 1353: 0, 1354: 0, 1355: 0, 1356: 0, 1357: 0, 1358: 0, 1359: 0, 1360: 0, 1361: 0, 1362: 0, 1363: 0, 1364: 0, 1365: 0, 1366: 0, 1367: 0, 1368: 0, 1369: 0, 1370: 0, 1371: 0, 1372: 0, 1373: 0, 1374: 0, 1375: 0, 1376: 0, 1377: 0, 1378: 0, 1379: 0, 1380: 0, 1381: 0, 1382: 0, 1383: 0, 1384: 0, 1385: 0, 1386: 0, 1387: 0, 1388: 0, 1389: 0, 1390: 0, 1391: 0, 1392: 0, 1393: 0, 1394: 0, 1395: 0, 1396: 0, 1397: 0, 1398: 0, 1399: 0, 1400: 0, 1401: 0, 1402: 0, 1403: 0, 1404: 0, 1405: 0, 1407: 0, 1408: 0, 1409: 0, 1410: 0, 1411: 0, 1412: 0, 1413: 0, 1414: 0, 1415: 0, 1416: 0}, 'diego1234': {1: 6.5, 2: 7.2, 3: 0, 4: 0, 5: 6.5, 7: 0, 8: 0, 9: 0, 10: 0, 11: 0, 12: 0, 13: 0, 14: 0, 15: 0, 16: 0, 17: 0, 19: 0, 20: 0, 21: 0, 22: 0, 23: 0, 24: 0, 25: 0, 26: 0, 27: 0, 28: 0, 29: 0, 30: 0, 31: 0, 32: 0, 33: 0, 34: 0, 35: 0, 36: 0, 37: 0, 38: 0, 39: 0, 40: 0, 41: 0, 42: 0, 43: 0, 44: 0, 45: 0, 46: 0, 47: 0, 48: 0, 49: 0, 50: 0, 51: 0, 52: 0, 53: 0, 54: 0, 55: 0, 56: 0, 57: 0, 59: 0, 60: 0, 61: 0, 62: 0, 63: 0, 65: 0, 66: 0, 67: 0, 68: 0, 69: 0, 70: 0, 71: 0, 72: 0, 73: 0, 74: 0, 75: 0, 76: 0, 77: 0, 78: 0, 79: 0, 80: 0, 81: 0, 82: 0, 83: 0, 84: 0, 85: 0, 86: 0, 87: 0, 88: 0, 89: 0, 90: 0, 91: 0, 92: 0, 93: 0, 94: 0, 95: 0, 96: 0, 97: 0, 98: 0, 99: 0, 100: 0, 101: 0, 102: 0, 103: 0, 104: 0, 105: 0, 106: 0, 107: 0, 108: 0, 109: 0, 110: 0, 111: 0, 112: 0, 113: 0, 114: 0, 115: 0, 116: 0, 117: 0, 118: 0, 119: 0, 120: 0, 121: 0, 122: 0, 123: 0, 124: 0, 125: 0, 126: 0, 127: 0, 128: 0, 129: 0, 131: 0, 132: 0, 134: 0, 265: 0, 829: 0, 830: 0, 831: 0, 832: 0, 833: 0, 834: 0, 839: 0, 840: 0, 841: 0, 842: 0, 843: 0, 844: 0, 845: 0, 846: 0, 847: 0, 848: 0, 849: 0, 850: 0, 852: 0, 853: 0, 854: 0, 855: 0, 856: 0, 857: 0, 858: 0, 859: 0, 860: 0, 861: 0, 862: 0, 864: 0, 865: 0, 1173: 0, 1174: 0, 1175: 0, 1176: 0, 1177: 0, 1178: 0, 1179: 0, 1180: 0, 1181: 0, 1182: 0, 1183: 0, 1184: 0, 1185: 0, 1186: 0, 1187: 0, 1188: 0, 1189: 0, 1190: 0, 1191: 0, 1192: 0, 1193: 0, 1194: 0, 1195: 0, 1196: 0, 1197: 0, 1198: 0, 1199: 0, 1200: 0, 1201: 0, 1202: 0, 1203: 0, 1204: 0, 1205: 0, 1206: 0, 1207: 0, 1208: 0, 1209: 0, 1210: 0, 1211: 0, 1212: 0, 1213: 0, 1214: 0, 1215: 0, 1216: 0, 1217: 0, 1218: 0, 1219: 0, 1220: 0, 1221: 0, 1222: 0, 1223: 0, 1224: 0, 1225: 0, 1226: 0, 1227: 0, 1228: 0, 1229: 0, 1230: 0, 1231: 0, 1232: 0, 1233: 0, 1234: 0, 1235: 0, 1236: 0, 1237: 0, 1238: 0, 1239: 0, 1240: 0, 1241: 0, 1242: 0, 1243: 0, 1244: 0, 1245: 0, 1246: 0, 1247: 0, 1248: 0, 1249: 0, 1250: 0, 1251: 0, 1252: 0, 1253: 0, 1254: 0, 1255: 0, 1256: 0, 1257: 0, 1258: 0, 1259: 0, 1260: 0, 1261: 0, 1262: 0, 1263: 0, 1264: 0, 1265: 0, 1266: 0, 1267: 0, 1268: 0, 1269: 0, 1270: 0, 1271: 0, 1272: 0, 1273: 0, 1274: 0, 1275: 0, 1276: 0, 1277: 0, 1278: 0, 1279: 0, 1280: 0, 1281: 0, 1282: 0, 1283: 0, 1284: 0, 1285: 0, 1286: 0, 1287: 0, 1288: 0, 1289: 0, 1290: 0, 1291: 0, 1292: 0, 1293: 0, 1294: 0, 1295: 0, 1296: 0, 1297: 0, 1298: 0, 1299: 0, 1300: 0, 1301: 0, 1302: 0, 1303: 0, 1304: 0, 1305: 0, 1306: 0, 1307: 0, 1308: 0, 1309: 0, 1310: 0, 1311: 0, 1312: 0, 1313: 0, 1314: 0, 1315: 0, 1316: 0, 1317: 0, 1318: 0, 1319: 0, 1320: 0, 1321: 0, 1322: 0, 1323: 0, 1324: 0, 1325: 0, 1326: 0, 1327: 0, 1328: 0, 1329: 0, 1330: 0, 1331: 0, 1332: 0, 1333: 0, 1334: 0, 1335: 0, 1336: 0, 1337: 0, 1338: 0, 1339: 0, 1340: 0, 1341: 0, 1342: 0, 1343: 0, 1344: 0, 1345: 0, 1346: 0, 1347: 0, 1348: 0, 1349: 0, 1350: 0, 1351: 0, 1352: 0, 1353: 0, 1354: 0, 1355: 0, 1356: 0, 1357: 0, 1358: 0, 1359: 0, 1360: 0, 1361: 0, 1362: 0, 1363: 0, 1364: 0, 1365: 0, 1366: 0, 1367: 0, 1368: 0, 1369: 0, 1370: 0, 1371: 0, 1372: 0, 1373: 0, 1374: 0, 1375: 0, 1376: 0, 1377: 0, 1378: 0, 1379: 0, 1380: 0, 1381: 0, 1382: 0, 1383: 0, 1384: 0, 1385: 0, 1386: 0, 1387: 0, 1388: 0, 1389: 0, 1390: 0, 1391: 0, 1392: 0, 1393: 0, 1394: 0, 1395: 0, 1396: 0, 1397: 0, 1398: 0, 1399: 0, 1400: 0, 1401: 0, 1402: 0, 1403: 0, 1404: 0, 1405: 0, 1407: 0, 1408: 0, 1409: 0, 1410: 0, 1411: 0, 1412: 0, 1413: 0, 1414: 0, 1415: 0, 1416: 0}}\n"
     ]
    }
   ],
   "source": [
    "data = get_datos_api()\n",
    "\n",
    "#favorito, calificacion, clics, preferencia\n",
    "pesos = [4, 2, 1, 3]\n",
    "\n",
    "calificaciones = []\n",
    "clics = []\n",
    "favoritos = []\n",
    "\n",
    "for item in data:\n",
    "    if item['calificacion'] != None:\n",
    "        calificaciones.append(item['calificacion'])\n",
    "\n",
    "    if item['numeroDeClicks'] != None:\n",
    "        clics.append(item['numeroDeClicks'])\n",
    "\n",
    "    if item['favorito'] != None:\n",
    "        favoritos.append(item['favorito'])\n",
    "\n",
    "promedio_calificaciones = 1\n",
    "promedio_clics = 0\n",
    "promedio_favoritos = 0\n",
    "max_clics = 0\n",
    "\n",
    "if len(calificaciones) > 0:\n",
    "    promedio_calificaciones = sum(calificaciones) / len(calificaciones)\n",
    "\n",
    "if len(clics) > 0:\n",
    "    max_clics = max(clics)\n",
    "    promedio_clics = sum(clics) / len(clics)\n",
    "\n",
    "if len(favoritos) > 0:\n",
    "    promedio_favoritos = sum(favoritos) / len(favoritos)\n",
    "\n",
    "for value in data:\n",
    "    id_inmueble = value['inmueble'] if value['inmueble']!=None else None\n",
    "    usuario = value['usuario'] if value['usuario']!=None else None\n",
    "    calificacion = normalizacion(value['calificacion'],5,1) if value['calificacion']!=None else promedio_calificaciones\n",
    "    favorito = int(value['favorito']) if value['favorito']!=None else promedio_favoritos\n",
    "\n",
    "    if max_clics > 0 and value['numeroDeClicks']!=None:\n",
    "        clics = normalizacion(value['numeroDeClicks'],valor_maximo=max_clics,valor_minimo=0)\n",
    "    else:\n",
    "        clics = promedio_clics\n",
    "\n",
    "    preferencia = 0\n",
    "    indexPuntajePorUsuarioPreferencia = next((i for i, dic in enumerate(puntajesPorUsuarios) if dic[\"usuario\"] == usuario), -1)\n",
    "    puntajesUsuario = puntajesPorUsuarios[indexPuntajePorUsuarioPreferencia]['puntajePorInmueble']\n",
    "    indexPuntajePorUsuarioPreferenciaInmueble = next((i for i, dic in enumerate(puntajesUsuario) if dic[\"idimueble\"] == id_inmueble), -1)\n",
    "\n",
    "    if indexPuntajePorUsuarioPreferenciaInmueble != -1:\n",
    "        preferencia = puntajesUsuario[indexPuntajePorUsuarioPreferenciaInmueble]['puntaje']\n",
    "\n",
    "    if id_inmueble is not None and usuario is not None:        \n",
    "        inmueble_por_usuario = InmuebleUsuarioNormalizado(inmueble=id_inmueble,\n",
    "                                                        usuario=usuario,\n",
    "                                                        calificacion=calificacion,\n",
    "                                                        favorito=favorito,\n",
    "                                                        clics=clics,\n",
    "                                                        puntajePreferencia=preferencia,\n",
    "                                                        pesos=pesos)\n",
    "        datosLimpios[inmueble_por_usuario.usuario][inmueble_por_usuario.inmueble] = inmueble_por_usuario.get_clasificacion()\n",
    "\n",
    "print(datosLimpios)\n",
    "\n",
    "\n",
    "# Nombre del archivo donde se guardarán los datos\n",
    "nombre_archivo = 'datosLimpios.json'\n",
    "\n",
    "# Guardar el diccionario en un archivo JSON\n",
    "with open(nombre_archivo, 'w') as archivo_json:\n",
    "    json.dump(datosLimpios, archivo_json, indent=4)\n"
   ]
  },
  {
   "cell_type": "code",
   "execution_count": 58,
   "metadata": {},
   "outputs": [],
   "source": [
    "import pandas as pd\n",
    "\n",
    "ratings_df = pd.DataFrame(datosLimpios).T"
   ]
  },
  {
   "cell_type": "code",
   "execution_count": 63,
   "metadata": {},
   "outputs": [
    {
     "name": "stdout",
     "output_type": "stream",
     "text": [
      "Matriz de similitud del coseno:\n",
      "            diego3026  diego1234\n",
      "diego3026    1.00000    0.73267\n",
      "diego1234    0.73267    1.00000\n"
     ]
    }
   ],
   "source": [
    "from sklearn.metrics.pairwise import cosine_similarity\n",
    "\n",
    "cosine_sim = cosine_similarity(ratings_df.fillna(0))\n",
    "cosine_sim_df = pd.DataFrame(cosine_sim, index=ratings_df.index, columns=ratings_df.index)\n",
    "print(\"Matriz de similitud del coseno:\\n\", cosine_sim_df)"
   ]
  },
  {
   "cell_type": "code",
   "execution_count": 72,
   "metadata": {},
   "outputs": [
    {
     "name": "stdout",
     "output_type": "stream",
     "text": [
      "Predicciones de valoraciones:\n",
      " Series([], dtype: float64)\n",
      "inmuebles recomendados: []\n"
     ]
    }
   ],
   "source": [
    "def predict_ratings(user, ratings_df, sim_df):\n",
    "    user_ratings = ratings_df.loc[user]  # Valoraciones del usuario objetivo\n",
    "    sim_scores = sim_df[user]  # Similitudes del usuario con otros usuarios\n",
    "    \n",
    "    # Excluir el propio usuario de la suma ponderada\n",
    "    sim_scores = sim_scores.drop(user)\n",
    "    ratings_df = ratings_df.drop(user)\n",
    "    \n",
    "    # Suma ponderada de las valoraciones de los vecinos\n",
    "    weighted_sum = (ratings_df.T * sim_scores).sum(axis=1)\n",
    "    sim_sum = sim_scores.sum()\n",
    "    \n",
    "    predicted_ratings = weighted_sum / sim_sum\n",
    "    predicted_ratings = predicted_ratings[user_ratings.isna()]\n",
    "    predicted_ratings = predicted_ratings[predicted_ratings > 0]\n",
    "\n",
    "    return predicted_ratings.sort_values(ascending=False)\n",
    "\n",
    "\n",
    "predicted_ratings = predict_ratings(\"diego3026\", ratings_df, cosine_sim_df)\n",
    "print(\"Predicciones de valoraciones:\\n\", predicted_ratings)\n",
    "\n",
    "recommendations = predicted_ratings.index.tolist()\n",
    "print(f\"inmuebles recomendados: {recommendations}\")\n"
   ]
  }
 ],
 "metadata": {
  "kernelspec": {
   "display_name": "Python 3 (ipykernel)",
   "language": "python",
   "name": "python3"
  },
  "language_info": {
   "codemirror_mode": {
    "name": "ipython",
    "version": 3
   },
   "file_extension": ".py",
   "mimetype": "text/x-python",
   "name": "python",
   "nbconvert_exporter": "python",
   "pygments_lexer": "ipython3",
   "version": "3.11.9"
  }
 },
 "nbformat": 4,
 "nbformat_minor": 4
}
